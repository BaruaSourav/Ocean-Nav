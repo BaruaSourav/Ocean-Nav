{
 "cells": [
  {
   "cell_type": "code",
   "execution_count": 14,
   "id": "arctic-better",
   "metadata": {},
   "outputs": [
    {
     "name": "stdout",
     "output_type": "stream",
     "text": [
      "The line_profiler extension is already loaded. To reload it, use:\n",
      "  %reload_ext line_profiler\n"
     ]
    }
   ],
   "source": [
    "import matplotlib.pyplot as plt\n",
    "import numpy as np\n",
    "import seawater\n",
    "import xarray as xr\n",
    "import scipy.signal as sp\n",
    "import pandas as pd\n",
    "import math\n",
    "import sys\n",
    "import time\n",
    "\n",
    "\n",
    "np.set_printoptions(threshold=50)\n",
    "\n",
    "%matplotlib inline\n",
    "%load_ext line_profiler"
   ]
  },
  {
   "cell_type": "markdown",
   "id": "opponent-hamburg",
   "metadata": {},
   "source": [
    "## Integrate PSSC in ONAV\n",
    "This notebook contains the update as we move forward integrating Potential Sub-Surface channel variable in Navigator following option 3 (A fixed frequency cutoff value) \n",
    "### Importing the sample profile"
   ]
  },
  {
   "cell_type": "code",
   "execution_count": null,
   "id": "ruled-software",
   "metadata": {},
   "outputs": [],
   "source": [
    "profile = pd.read_csv(\"sample-pssc-profiles/ts_giops_day_2021-01-22T17_20_15.578175_POSITIVE.csv\", header=2)\n",
    "profile.columns"
   ]
  },
  {
   "cell_type": "code",
   "execution_count": null,
   "id": "independent-reliance",
   "metadata": {},
   "outputs": [],
   "source": [
    "depth = profile['Depth (m)']\n",
    "Profile_sspeed = profile['Sound Speed']\n",
    "temperature = profile ['Temperature']\n",
    "salinity = profile ['Salinity']\n",
    "latitude = profile['Latitude']\n",
    "fig, ax = plt.subplots(1,1,figsize=(10,10))\n",
    "ax.plot(profile['Sound Speed'], profile['Depth (m)'])\n",
    "ax.grid(True)\n",
    "ax.set_ylim([1000,0])\n",
    "ax.set_ylabel('Depth [m]')\n",
    "ax.set_xlabel('Speed of sound [m/s]')"
   ]
  },
  {
   "cell_type": "markdown",
   "id": "infectious-throw",
   "metadata": {},
   "source": [
    "### Bringing in functions from Navigator\n",
    "These functions below are from Ocean-Data-Map-Project/data/calculated_parser/functions.py\n",
    "\n",
    "https://github.com/DFO-Ocean-Navigator/Ocean-Data-Map-Project/blob/master/data/calculated_parser/functions.py"
   ]
  },
  {
   "cell_type": "code",
   "execution_count": 2,
   "id": "opponent-relation",
   "metadata": {},
   "outputs": [],
   "source": [
    "def __calc_pressure(depth, latitude):\n",
    "    pressure = []\n",
    "    try:\n",
    "        pressure = [seawater.pres(d, latitude) for d in depth]\n",
    "    except TypeError:\n",
    "        pressure = seawater.pres(depth, latitude)\n",
    "\n",
    "    return np.array(pressure)\n",
    "\n",
    "def __validate_depth_lat_temp_sal(depth, latitude, temperature, salinity):\n",
    "\n",
    "    if type(depth) is not np.ndarray:\n",
    "        depth = np.array(depth)\n",
    "\n",
    "    if type(latitude) is not np.ndarray:\n",
    "        latitude = np.array(latitude)\n",
    "\n",
    "    if type(temperature) is not np.ndarray:\n",
    "        temperature = np.array(temperature)\n",
    "\n",
    "    if type(salinity) is not np.ndarray:\n",
    "        salinity = np.array(salinity)\n",
    "\n",
    "    return depth, latitude, np.squeeze(temperature), np.squeeze(salinity)\n",
    "\n",
    "def sspeed(depth, latitude, temperature, salinity):\n",
    "    \"\"\"\n",
    "    Calculates the speed of sound.\n",
    "    Required Arguments:\n",
    "    * depth: The depth(s) in meters\n",
    "    * latitude: The latitude(s) in degrees North\n",
    "    * temperature: The temperatures(s) in Celsius\n",
    "    * salinity: The salinity (unitless)\n",
    "    \"\"\"\n",
    "\n",
    "    depth, latitude, temperature, salinity = __validate_depth_lat_temp_sal(\n",
    "        depth, latitude, temperature, salinity)\n",
    "\n",
    "    press = __calc_pressure(depth, latitude)\n",
    "\n",
    "    if salinity.shape != press.shape:\n",
    "        # pad array shape to match otherwise seawater freaks out\n",
    "        press = press[..., np.newaxis]\n",
    "\n",
    "    speed = seawater.svel(salinity, temperature, press)\n",
    "    return np.squeeze(speed)"
   ]
  },
  {
   "cell_type": "code",
   "execution_count": null,
   "id": "judicial-ceramic",
   "metadata": {},
   "outputs": [],
   "source": [
    "calculated_sspeed = sspeed(depth, latitude, temperature, salinity)\n",
    "calculated_sspeed.shape"
   ]
  },
  {
   "cell_type": "markdown",
   "id": "subjective-welding",
   "metadata": {},
   "source": [
    "### The functions to detect sub-surface channel (Single point calculation)"
   ]
  },
  {
   "cell_type": "code",
   "execution_count": null,
   "id": "scientific-conflict",
   "metadata": {},
   "outputs": [],
   "source": [
    "def calculate_del_C(depth,latitude,temperature, salinity, freq_cutoff):\n",
    "    \"\"\"\n",
    "     Calculate ΔC from a given sound profile and freq cutoff\n",
    "     Required Arguments:\n",
    "        * depth: The depth(s) in meters\n",
    "        * latitude: The latitude(s) in degrees North\n",
    "        * temperature: The temperatures(s) in Celsius\n",
    "        * salinity: The salinity (unitless)\n",
    "        * freq_cutoff: Desired frequency cutoff in Hz\n",
    "     Returns the value of ΔC, which will later be used inside the \n",
    "    \"\"\"\n",
    "    depth, latitude, temperature, salinity = __validate_depth_lat_temp_sal(depth, latitude, temperature, salinity)\n",
    "    \n",
    "    soundspeed = sspeed(depth, latitude, temperature, salinity);\n",
    "    print(soundspeed.shape)\n",
    "    # Getting Cmin from the sound speed profile\n",
    "    first_local_minimum = sp.find_peaks(-soundspeed)[0][0]\n",
    "    Cmin = soundspeed[first_local_minimum]\n",
    "    #Calculating del_Z\n",
    "    local_maximum = sp.find_peaks(soundspeed)[0][0]\n",
    "    channel_start_depth = depth[local_maximum]\n",
    "    channel_end_depth = np.interp(soundspeed[local_maximum], soundspeed, depth) \n",
    "    del_Z = channel_end_depth - channel_start_depth\n",
    "    # print(channel_start_depth)\n",
    "    # Final calculation of delC\n",
    "    numerator = freq_cutoff * del_Z\n",
    "    denominator = 0.2652 * Cmin\n",
    "    final_denom = numerator/denominator\n",
    "    final_denom =np.power(final_denom,2)\n",
    "    delC = float(Cmin/final_denom)\n",
    "    return delC\n",
    "\n",
    "#calculate_del_C(depth,latitude, temperature, salinity, 2755.03);"
   ]
  },
  {
   "cell_type": "code",
   "execution_count": null,
   "id": "useful-adrian",
   "metadata": {},
   "outputs": [],
   "source": [
    "\"\"\"\n",
    "     Detect if there is sub-surface channel. \n",
    "     Required Arguments:\n",
    "        * depth: Depth in meters\n",
    "        * sspeed: Sound speed in m/s\n",
    "     Returns 1 if the profile has a sub-surface channel, 0 if the profile does not have a sub-surface channel\n",
    "\"\"\"\n",
    "def detect_potential_sub_surface_channel_v3(depth, latitude,temperature, salinity, freq_cutoff = 2755.03 )-> bool:\n",
    "    has_PSSC = 0\n",
    "    del_C = calculate_del_C(depth,latitude,temperature, salinity, freq_cutoff)\n",
    "    # Trimming the profile considering the depth above 1000m\n",
    "    depth = depth[depth<1000]\n",
    "    sspeed = sspeed[0:(len(depth))]\n",
    "    # detecting the local minima and local maxima for the sound speed profile\n",
    "    local_minima = sp.find_peaks(-sspeed)[0] # get the index array of local minima\n",
    "    local_maxima = sp.find_peaks(sspeed)[0] # get the index array of local maxima\n",
    "    if len(local_minima)>=2: #if there are 2 or more minima\n",
    "        p1 = 0 # surface\n",
    "        p2 = local_minima[0] #first minimum\n",
    "        if len(local_maxima)>=2: # if there are more than one maxima\n",
    "            p1 = local_maxima[0] #first maximum\n",
    "            p3 = local_maxima[1] #second maximum\n",
    "        else: #only one local maximum\n",
    "            p3 =  local_maxima[0] \n",
    "            if p3 < p2: # the only one maxima is higher in the water column than the minima\n",
    "                has_PSSC=0\n",
    "        # print(\"p1 p2 p3 : \" +str(p1)+\" \"+str(p2)+\" \"+str(p3))\n",
    "        p1_sound_speed = sound_speed[p1]\n",
    "        p2_sound_speed = sound_speed[p2]\n",
    "        p3_sound_speed = sound_speed[p3]\n",
    "    \n",
    "        c1 = abs(p1_sound_speed-p2_sound_speed) \n",
    "        c2 = abs(p3_sound_speed-p2_sound_speed)\n",
    "        #print(\"c1 = \"+ str(c1) +\"m/s\")\n",
    "        #print(\"c2 = \"+ str(c2) +\"m/s\")\n",
    "    \n",
    "        if c1> del_C and c2> del_C: # Changing this comparison to check with the calculated ΔC\n",
    "            has_PSSC =1\n",
    "        else:\n",
    "            has_PSSC =0\n",
    "    else:\n",
    "        has_PSSC =0 \n",
    "    #print(local_minima)\n",
    "    #print(local_maxima)\n",
    "    return has_PSSC"
   ]
  },
  {
   "cell_type": "markdown",
   "id": "abandoned-advancement",
   "metadata": {},
   "source": [
    "### Transforming the function for inputs from NetCDF file"
   ]
  },
  {
   "cell_type": "code",
   "execution_count": null,
   "id": "electronic-software",
   "metadata": {},
   "outputs": [],
   "source": [
    "d = xr.open_dataset('data/2019100100_000_3D_ps5km60N.nc')\n",
    "d"
   ]
  },
  {
   "cell_type": "code",
   "execution_count": null,
   "id": "innocent-advantage",
   "metadata": {},
   "outputs": [],
   "source": [
    "depth = d.depth.values\n",
    "temp = d.votemper.values\n",
    "sal = d.vosaline.values\n",
    "lat = d.latitude.values"
   ]
  },
  {
   "cell_type": "code",
   "execution_count": null,
   "id": "piano-robert",
   "metadata": {},
   "outputs": [],
   "source": [
    "depth2 = depth[depth<1000]\n",
    "depth2.shape\n",
    "temp = temp-273.15\n"
   ]
  },
  {
   "cell_type": "code",
   "execution_count": null,
   "id": "interracial-salem",
   "metadata": {},
   "outputs": [],
   "source": [
    "temp2 = temp[:,0:len(depth2),:,:]\n",
    "print(temp2.shape)\n",
    "sal2 =  sal[:,0:len(depth2),:,:]\n",
    "print(sal2.shape)"
   ]
  },
  {
   "cell_type": "code",
   "execution_count": null,
   "id": "dressed-resistance",
   "metadata": {},
   "outputs": [],
   "source": [
    "#sound_speed = np.ma.array(sspeed(depth2, lat, temp2, sal2), fill_value=np.nan)\n",
    "sound_speed = sspeed(depth2, lat, temp2, sal2)\n",
    "#sound_speed"
   ]
  },
  {
   "cell_type": "code",
   "execution_count": null,
   "id": "flexible-canal",
   "metadata": {},
   "outputs": [],
   "source": [
    "start = time.time()\n",
    "sound_speed.shape\n",
    "minima = np.apply_along_axis(sp.find_peaks,0,-sound_speed)\n",
    "end = time.time()\n",
    "print(end-start)\n",
    "minima.shape"
   ]
  },
  {
   "cell_type": "markdown",
   "id": "brazilian-bankruptcy",
   "metadata": {},
   "source": [
    "__need to check it for an expected size of soundspeed__ "
   ]
  },
  {
   "cell_type": "code",
   "execution_count": null,
   "id": "analyzed-fiber",
   "metadata": {},
   "outputs": [],
   "source": [
    "sound_speed_sliced = sound_speed[:,200:286,-126:]\n",
    "sound_speed_sliced.shape"
   ]
  },
  {
   "cell_type": "code",
   "execution_count": null,
   "id": "social-festival",
   "metadata": {},
   "outputs": [],
   "source": [
    "start = time.time()\n",
    "minima_alt = np.apply_along_axis(sp.find_peaks,0,-sound_speed_sliced)\n",
    "end = time.time()\n",
    "print(end-start)\n",
    "minima_alt = minima_alt[0]\n",
    "minima_alt"
   ]
  },
  {
   "cell_type": "code",
   "execution_count": null,
   "id": "twelve-alcohol",
   "metadata": {},
   "outputs": [],
   "source": [
    "first_minimum = np.empty_like(minima_alt, dtype='int64')\n",
    "start = time.time()\n",
    "it = np.nditer(minima_alt,flags=['refs_ok','multi_index'])\n",
    "for x in it:\n",
    "    minima_size = x.tolist().size\n",
    "    first_minimum[it.multi_index]= x.tolist()[0] if minima_size>0 else -1\n",
    "end = time.time()\n",
    "print(\"Execution time :\",end-start,\" seconds\")\n",
    "first_minimum"
   ]
  },
  {
   "cell_type": "code",
   "execution_count": null,
   "id": "reliable-franchise",
   "metadata": {},
   "outputs": [],
   "source": [
    "first_minimum"
   ]
  },
  {
   "cell_type": "code",
   "execution_count": null,
   "id": "annual-vegetarian",
   "metadata": {},
   "outputs": [],
   "source": [
    "Cmin = np.take_along_axis(sound_speed_sliced, first_minimum[np.newaxis,:, :], axis=0)\n",
    "Cmin"
   ]
  },
  {
   "cell_type": "markdown",
   "id": "worse-consent",
   "metadata": {},
   "source": [
    "Testing if this worked. Checking it with directly indexing the actual value and output. "
   ]
  },
  {
   "cell_type": "code",
   "execution_count": null,
   "id": "tamil-weekend",
   "metadata": {},
   "outputs": [],
   "source": [
    "sound_speed_sliced[10,0,-1]"
   ]
  },
  {
   "cell_type": "markdown",
   "id": "russian-domain",
   "metadata": {},
   "source": [
    "Squeezing the ndarray to remove the 0th axis of length 1"
   ]
  },
  {
   "cell_type": "code",
   "execution_count": null,
   "id": "broad-virtue",
   "metadata": {},
   "outputs": [],
   "source": [
    "print(Cmin.shape)\n",
    "Cmin = np.squeeze(Cmin)\n",
    "print(Cmin.shape)"
   ]
  },
  {
   "cell_type": "code",
   "execution_count": null,
   "id": "massive-quarter",
   "metadata": {},
   "outputs": [],
   "source": [
    "Cmin[first_minimum==-1] = np.nan\n"
   ]
  },
  {
   "cell_type": "code",
   "execution_count": null,
   "id": "stock-april",
   "metadata": {},
   "outputs": [],
   "source": [
    "Cmin"
   ]
  },
  {
   "cell_type": "code",
   "execution_count": null,
   "id": "dominican-marking",
   "metadata": {},
   "outputs": [],
   "source": [
    "maxima_alt =  np.apply_along_axis(sp.find_peaks,0,sound_speed_sliced)\n",
    "maxima_alt.shape"
   ]
  },
  {
   "cell_type": "code",
   "execution_count": null,
   "id": "cardiac-daniel",
   "metadata": {},
   "outputs": [],
   "source": [
    "maxima_alt = maxima_alt[0]\n",
    "first_maximum = np.empty_like(maxima_alt, dtype='int64')\n",
    "it = np.nditer(maxima_alt,flags=['refs_ok','multi_index'])\n",
    "for x in it:\n",
    "    array_size = x.tolist().size\n",
    "    first_maximum[it.multi_index] =x.tolist()[0] if array_size>0 else -1 \n",
    "first_maximum.shape\n"
   ]
  },
  {
   "cell_type": "code",
   "execution_count": 3,
   "id": "posted-utility",
   "metadata": {},
   "outputs": [],
   "source": [
    "def calculate_del_C(depth,soundspeed,minima,maxima,freq_cutoff):\n",
    "    \"\"\"\n",
    "     Calculate ΔC from a given sound profile and freq cutoff\n",
    "     Required Arguments:\n",
    "        * depth: The depth(s) in meters\n",
    "        * soundspeed: Speed of sound in m/s\n",
    "        * minima: Minima ndarray of Speed of sound, which contains the index where the minima occurs\n",
    "        * maxima: Maxima ndarray of Speed of sound,  which contains the index where the maxima occurs\n",
    "        * freq_cutoff: Desired frequency cutoff in Hz\n",
    "     Returns the value of ΔC, which will later be used inside the PSSC detection method\n",
    "    \"\"\"\n",
    "    # Getting Cmin from the sound speed profile\n",
    "    first_minimum = np.empty_like(minima, dtype='int64')\n",
    "    # TODO: need to look at alternative for the following operation\n",
    "    it = np.nditer(minima,flags=['refs_ok','multi_index'])\n",
    "    for x in it:\n",
    "        array_size = x.tolist().size\n",
    "        first_minimum[it.multi_index]= x.tolist()[0] if array_size>0 else -1\n",
    "    Cmin = np.squeeze(np.take_along_axis(soundspeed, first_minimum[np.newaxis,:, :], axis=0))\n",
    "    Cmin[first_minimum==-1] = np.nan\n",
    "    #calculating delZ\n",
    "    first_maximum = np.empty_like(maxima, dtype='int64')\n",
    "    it = np.nditer(maxima,flags=['refs_ok','multi_index'])\n",
    "    for x in it:\n",
    "        array_size = x.tolist().size\n",
    "        first_maximum[it.multi_index] =x.tolist()[0] if array_size>0 else -1 \n",
    "    channel_start_depth = depth[first_maximum]\n",
    "    channel_start_depth[first_maximum==-1] = np.nan\n",
    "    Cmax = np.squeeze(np.take_along_axis(soundspeed, first_maximum[np.newaxis,:, :], axis=0))\n",
    "    Cmax[first_minimum==-1] = np.nan\n",
    "    #channel_end_depth = np.apply_along_axis(np.interp,0, Cmax,soundspeed,depth) \n",
    "    channel_end_depth = np.empty_like(Cmax,dtype='float')\n",
    "    it = np.nditer(Cmax,flags=['refs_ok','multi_index'])\n",
    "    for x in it:\n",
    "        channel_end_depth[it.multi_index] = np.interp(x, soundspeed[:,it.multi_index[0], it.multi_index[1]],depth)\n",
    "    del_Z = channel_end_depth-channel_start_depth\n",
    "    numerator = freq_cutoff * del_Z\n",
    "    denominator = 0.2652 * Cmin\n",
    "    final_denom = numerator/denominator \n",
    "    final_denom = np.power(final_denom,2)\n",
    "    delC = Cmin/final_denom\n",
    "    #print(delC)\n",
    "    return delC\n",
    "\n",
    "def potentialsubsurfacechannel(depth, latitude,temperature, salinity, freq_cutoff = 2755.03 )-> np.ndarray:\n",
    "#def potentialsubsurfacechannel(depth, sound_speed, freq_cutoff = 2755.03 )-> bool:   \n",
    "    \"\"\"\n",
    "     Detect if there is sub-surface channel. \n",
    "     Required Arguments:\n",
    "        * depth: Depth in meters\n",
    "        * latitude: Latitude in degrees North\n",
    "        * temperature: Temperatures in Celsius\n",
    "        * salinity: Salinity\n",
    "        * freq_cutoff: Desired frequency cutoff in Hz\n",
    "     Returns 1 if the profile has a sub-surface channel, 0 if the profile does not have a sub-surface channel\n",
    "    \"\"\"\n",
    "    # Trimming the profile considering the depth above 1000m\n",
    "    depth = depth[depth<1000]\n",
    "    depth_length = len(depth)\n",
    "    temp = temperature[:,0:depth_length,:,:]\n",
    "    sal =  salinity[:,0:depth_length,:,:]\n",
    "    sound_speed = sspeed(depth, latitude, temp, sal)\n",
    "    minima = np.apply_along_axis(sp.find_peaks,0,-sound_speed)[0] # selecting the first item\n",
    "    maxima = np.apply_along_axis(sp.find_peaks,0, sound_speed)[0]\n",
    "    delC = calculate_del_C(depth,sound_speed,minima,maxima, freq_cutoff)\n",
    "    #print(minima)\n",
    "    \n",
    "    hasPSSC = np.empty_like(minima, dtype='bool')\n",
    "    #p1 = np.empty_like(minima, dtype='int64')\n",
    "    #p2 = np.empty_like(minima, dtype='int64')\n",
    "    #p3 = np.empty_like(minima, dtype='int64')\n",
    "    #print(len(minima[0][-2])) \n",
    "    \n",
    "    it = np.nditer(minima,flags=['refs_ok','multi_index'])\n",
    "    for minima_array in it:\n",
    "        minima_list = minima_array.tolist()\n",
    "        maxima_list = maxima[it.multi_index].tolist()\n",
    "        #print(iterator.multi_index)\n",
    "        if len(minima_list)>=2:\n",
    "            p1 = 0\n",
    "            p2 = minima[it.multi_index].tolist()[0]\n",
    "            if len(maxima_list) >=2:\n",
    "                p1 = maxima_list[0]\n",
    "                p3 = maxima_list[1]\n",
    "            else:\n",
    "                p3= maxima_list[0]\n",
    "            if p3 < p2: #if the only maximum is higher in the water column than the minima\n",
    "                hasPSSC[it.multi_index]=0\n",
    "            else:\n",
    "                p1_sound_speed = sound_speed[p1,it.multi_index[0], it.multi_index[1]]\n",
    "                p2_sound_speed = sound_speed[p2,it.multi_index[0], it.multi_index[1]]\n",
    "                p3_sound_speed = sound_speed[p3,it.multi_index[0], it.multi_index[1]]\n",
    "                \n",
    "                c1 = abs(p1_sound_speed-p2_sound_speed) \n",
    "                c2 = abs(p3_sound_speed-p2_sound_speed)\n",
    "                \n",
    "                if c1> delC[it.multi_index] and c2> delC[it.multi_index]: \n",
    "                    hasPSSC[it.multi_index]= 1\n",
    "                else:\n",
    "                    hasPSSC[it.multi_index]= 0\n",
    "        else:\n",
    "            hasPSSC[it.multi_index] = 0\n",
    "                                                        \n",
    "    return hasPSSC"
   ]
  },
  {
   "cell_type": "markdown",
   "id": "twenty-logan",
   "metadata": {},
   "source": [
    "Preparing test data to test the function"
   ]
  },
  {
   "cell_type": "code",
   "execution_count": 4,
   "id": "corrected-borough",
   "metadata": {},
   "outputs": [],
   "source": [
    "d = xr.open_dataset('data/2019100100_000_3D_ps5km60N.nc')\n",
    "depth = d.depth.values\n",
    "temp = d.votemper.values\n",
    "sal = d.vosaline.values\n",
    "lat = d.latitude.values"
   ]
  },
  {
   "cell_type": "code",
   "execution_count": 5,
   "id": "twelve-shoulder",
   "metadata": {},
   "outputs": [
    {
     "name": "stdout",
     "output_type": "stream",
     "text": [
      "(1, 75, 1610, 1770)\n",
      "(1, 75, 1610, 1770)\n"
     ]
    }
   ],
   "source": [
    "print(temp.shape)\n",
    "print(sal.shape)"
   ]
  },
  {
   "cell_type": "markdown",
   "id": "therapeutic-match",
   "metadata": {},
   "source": [
    "Resizing the dataset to test the expected size"
   ]
  },
  {
   "cell_type": "code",
   "execution_count": 6,
   "id": "recorded-submission",
   "metadata": {},
   "outputs": [
    {
     "name": "stdout",
     "output_type": "stream",
     "text": [
      "(1, 75, 86, 126)\n",
      "(1, 75, 86, 126)\n",
      "(86, 126)\n"
     ]
    }
   ],
   "source": [
    "temp = temp[:,:,200:286,-126:]\n",
    "temp = temp-273.15\n",
    "sal = sal[:,:,200:286,-126:]\n",
    "lat = lat [200:286,-126:]\n",
    "print(temp.shape)\n",
    "print(sal.shape)\n",
    "print(lat.shape)"
   ]
  },
  {
   "cell_type": "markdown",
   "id": "residential-keeping",
   "metadata": {},
   "source": [
    "### Checking runtime for a standard input size"
   ]
  },
  {
   "cell_type": "code",
   "execution_count": 7,
   "id": "dying-oakland",
   "metadata": {},
   "outputs": [
    {
     "name": "stdout",
     "output_type": "stream",
     "text": [
      "0.5346019268035889  seconds\n"
     ]
    }
   ],
   "source": [
    "start = time.time()\n",
    "PSSC = potentialsubsurfacechannel(depth, lat,temp,sal, 2755.03)\n",
    "end = time.time()\n",
    "print(end-start,\" seconds\")"
   ]
  },
  {
   "cell_type": "code",
   "execution_count": 8,
   "id": "acknowledged-blind",
   "metadata": {},
   "outputs": [
    {
     "data": {
      "text/plain": [
       "(86, 126)"
      ]
     },
     "execution_count": 8,
     "metadata": {},
     "output_type": "execute_result"
    }
   ],
   "source": [
    "PSSC.shape"
   ]
  },
  {
   "cell_type": "markdown",
   "id": "virtual-democrat",
   "metadata": {},
   "source": [
    "### Line-by-line profiling for the _potentialsubsurfacechannel_ function"
   ]
  },
  {
   "cell_type": "code",
   "execution_count": 26,
   "id": "built-separate",
   "metadata": {},
   "outputs": [
    {
     "data": {
      "text/plain": [
       "Timer unit: 1e-06 s\n",
       "\n",
       "Total time: 0.99101 s\n",
       "File: <ipython-input-3-373ee249423e>\n",
       "Function: potentialsubsurfacechannel at line 45\n",
       "\n",
       "Line #      Hits         Time  Per Hit   % Time  Line Contents\n",
       "==============================================================\n",
       "    45                                           def potentialsubsurfacechannel(depth, latitude,temperature, salinity, freq_cutoff = 2755.03 )-> np.ndarray:\n",
       "    46                                           #def potentialsubsurfacechannel(depth, sound_speed, freq_cutoff = 2755.03 )-> bool:   \n",
       "    47                                               \"\"\"\n",
       "    48                                                Detect if there is sub-surface channel. \n",
       "    49                                                Required Arguments:\n",
       "    50                                                   * depth: Depth in meters\n",
       "    51                                                   * latitude: Latitude in degrees North\n",
       "    52                                                   * temperature: Temperatures in Celsius\n",
       "    53                                                   * salinity: Salinity\n",
       "    54                                                   * freq_cutoff: Desired frequency cutoff in Hz\n",
       "    55                                                Returns 1 if the profile has a sub-surface channel, 0 if the profile does not have a sub-surface channel\n",
       "    56                                               \"\"\"\n",
       "    57                                               # Trimming the profile considering the depth above 1000m\n",
       "    58         1         36.0     36.0      0.0      depth = depth[depth<1000]\n",
       "    59         1          2.0      2.0      0.0      depth_length = len(depth)\n",
       "    60         1          5.0      5.0      0.0      temp = temperature[:,0:depth_length,:,:]\n",
       "    61         1          3.0      3.0      0.0      sal =  salinity[:,0:depth_length,:,:]\n",
       "    62         1      28571.0  28571.0      2.9      sound_speed = sspeed(depth, latitude, temp, sal)\n",
       "    63         1     353100.0 353100.0     35.6      minima = np.apply_along_axis(sp.find_peaks,0,-sound_speed)[0] # selecting the first item\n",
       "    64         1     337610.0 337610.0     34.1      maxima = np.apply_along_axis(sp.find_peaks,0, sound_speed)[0]\n",
       "    65         1     176108.0 176108.0     17.8      delC = calculate_del_C(depth,sound_speed,minima,maxima, freq_cutoff)\n",
       "    66                                               #print(minima)\n",
       "    67                                               \n",
       "    68         1         13.0     13.0      0.0      hasPSSC = np.empty_like(minima, dtype='bool')\n",
       "    69                                               #p1 = np.empty_like(minima, dtype='int64')\n",
       "    70                                               #p2 = np.empty_like(minima, dtype='int64')\n",
       "    71                                               #p3 = np.empty_like(minima, dtype='int64')\n",
       "    72                                               #print(len(minima[0][-2])) \n",
       "    73                                               \n",
       "    74         1          8.0      8.0      0.0      it = np.nditer(minima,flags=['refs_ok','multi_index'])\n",
       "    75     10837      15149.0      1.4      1.5      for minima_array in it:\n",
       "    76     10836      13834.0      1.3      1.4          minima_list = minima_array.tolist()\n",
       "    77     10836      17980.0      1.7      1.8          maxima_list = maxima[it.multi_index].tolist()\n",
       "    78                                                   #print(iterator.multi_index)\n",
       "    79     10836      14332.0      1.3      1.4          if len(minima_list)>=2:\n",
       "    80       791        876.0      1.1      0.1              p1 = 0\n",
       "    81       791       1409.0      1.8      0.1              p2 = minima[it.multi_index].tolist()[0]\n",
       "    82       791       1016.0      1.3      0.1              if len(maxima_list) >=2:\n",
       "    83       791        916.0      1.2      0.1                  p1 = maxima_list[0]\n",
       "    84       791        924.0      1.2      0.1                  p3 = maxima_list[1]\n",
       "    85                                                       else:\n",
       "    86                                                           p3= maxima_list[0]\n",
       "    87       791        898.0      1.1      0.1              if p3 < p2: #if the only maximum is higher in the water column than the minima\n",
       "    88                                                           hasPSSC[it.multi_index]=0\n",
       "    89                                                       else:\n",
       "    90       791       1513.0      1.9      0.2                  p1_sound_speed = sound_speed[p1,it.multi_index[0], it.multi_index[1]]\n",
       "    91       791       1435.0      1.8      0.1                  p2_sound_speed = sound_speed[p2,it.multi_index[0], it.multi_index[1]]\n",
       "    92       791       1506.0      1.9      0.2                  p3_sound_speed = sound_speed[p3,it.multi_index[0], it.multi_index[1]]\n",
       "    93                                                           \n",
       "    94       791       1309.0      1.7      0.1                  c1 = abs(p1_sound_speed-p2_sound_speed) \n",
       "    95       791       1226.0      1.5      0.1                  c2 = abs(p3_sound_speed-p2_sound_speed)\n",
       "    96                                                           \n",
       "    97       791       5677.0      7.2      0.6                  if c1> delC[it.multi_index] and c2> delC[it.multi_index]: \n",
       "    98       791       1270.0      1.6      0.1                      hasPSSC[it.multi_index]= 1\n",
       "    99                                                           else:\n",
       "   100                                                               hasPSSC[it.multi_index]= 0\n",
       "   101                                                   else:\n",
       "   102     10045      14283.0      1.4      1.4              hasPSSC[it.multi_index] = 0\n",
       "   103                                                                                                   \n",
       "   104         1          1.0      1.0      0.0      return hasPSSC"
      ]
     },
     "metadata": {},
     "output_type": "display_data"
    }
   ],
   "source": [
    "%lprun -f potentialsubsurfacechannel potentialsubsurfacechannel(depth, lat,temp,sal, 2755.03)"
   ]
  }
 ],
 "metadata": {
  "kernelspec": {
   "display_name": "navigator_env",
   "language": "python",
   "name": "navigator"
  },
  "language_info": {
   "codemirror_mode": {
    "name": "ipython",
    "version": 3
   },
   "file_extension": ".py",
   "mimetype": "text/x-python",
   "name": "python",
   "nbconvert_exporter": "python",
   "pygments_lexer": "ipython3",
   "version": "3.6.8"
  }
 },
 "nbformat": 4,
 "nbformat_minor": 5
}
