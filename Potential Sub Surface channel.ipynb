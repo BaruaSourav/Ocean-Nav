{
 "cells": [
  {
   "cell_type": "code",
   "execution_count": 576,
   "id": "configured-logging",
   "metadata": {},
   "outputs": [],
   "source": [
    "import matplotlib.pyplot as plt\n",
    "import numpy as np\n",
    "import seawater\n",
    "import xarray as xr\n",
    "import scipy.signal as sp\n",
    "import pandas as pd\n",
    "import math\n",
    "\n",
    "%matplotlib inline"
   ]
  },
  {
   "cell_type": "markdown",
   "id": "continuing-simulation",
   "metadata": {},
   "source": [
    "# Potential sub-surface channel\n",
    "This notebook will contain the update as we step forward implementing the **Potential Sub-surface** acoustic variable inside **Ocean Navigator**.It is a boolean that indicates the potential existence of a sub-surface sound channel. \n",
    "\n",
    ">*A sub-surface sound channel can exist if there are two local minima in the sound speed profile above 1000 m.*\n",
    "\n",
    " If yes, The difference in sound speed between the local maxima and the first local minimum must be greater than 5 m/s.\n",
    "       \n",
    " If two local minima exist but only one local maximum exists then\n",
    "  - The local maximum cannot be higher in the water column than the first local minimum (is that check necessary - perhaps since the order in argrelextrema is so large)\n",
    "   - The difference in the speed of sound at the surface and the first local minimum is greater than 5 m/s and the difference between the speed of sound at the local minimum and local maximum is greater than 5 m/s.\n",
    "\n",
    "### Importing a sample profile"
   ]
  },
  {
   "cell_type": "code",
   "execution_count": 587,
   "id": "confident-lighting",
   "metadata": {},
   "outputs": [],
   "source": [
    "#profile = pd.read_csv(\"sample-pssc-profiles/ts_giops_day_2021-01-22T16_45_30.510267.csv\", comment='/') \n",
    "profile = pd.read_csv(\"sample-pssc-profiles/ts_giops_day_2021-02-01T17 28 05.033836_POSITIVE.csv\", header=2) "
   ]
  },
  {
   "cell_type": "code",
   "execution_count": 588,
   "id": "complimentary-remedy",
   "metadata": {},
   "outputs": [
    {
     "data": {
      "text/plain": [
       "Index(['Latitude', 'Longitude', 'Depth (m)', 'Pressure', 'Salinity',\n",
       "       'Temperature', 'Sound Speed'],\n",
       "      dtype='object')"
      ]
     },
     "execution_count": 588,
     "metadata": {},
     "output_type": "execute_result"
    }
   ],
   "source": [
    "profile.columns"
   ]
  },
  {
   "cell_type": "code",
   "execution_count": 589,
   "id": "consecutive-retail",
   "metadata": {},
   "outputs": [
    {
     "data": {
      "text/html": [
       "<div>\n",
       "<style scoped>\n",
       "    .dataframe tbody tr th:only-of-type {\n",
       "        vertical-align: middle;\n",
       "    }\n",
       "\n",
       "    .dataframe tbody tr th {\n",
       "        vertical-align: top;\n",
       "    }\n",
       "\n",
       "    .dataframe thead th {\n",
       "        text-align: right;\n",
       "    }\n",
       "</style>\n",
       "<table border=\"1\" class=\"dataframe\">\n",
       "  <thead>\n",
       "    <tr style=\"text-align: right;\">\n",
       "      <th></th>\n",
       "      <th>Sound Speed</th>\n",
       "      <th>Depth (m)</th>\n",
       "    </tr>\n",
       "  </thead>\n",
       "  <tbody>\n",
       "    <tr>\n",
       "      <th>0</th>\n",
       "      <td>1464.6</td>\n",
       "      <td>0.5</td>\n",
       "    </tr>\n",
       "    <tr>\n",
       "      <th>1</th>\n",
       "      <td>1464.6</td>\n",
       "      <td>1.5</td>\n",
       "    </tr>\n",
       "    <tr>\n",
       "      <th>2</th>\n",
       "      <td>1464.6</td>\n",
       "      <td>2.6</td>\n",
       "    </tr>\n",
       "    <tr>\n",
       "      <th>3</th>\n",
       "      <td>1464.6</td>\n",
       "      <td>3.8</td>\n",
       "    </tr>\n",
       "    <tr>\n",
       "      <th>4</th>\n",
       "      <td>1464.7</td>\n",
       "      <td>5.1</td>\n",
       "    </tr>\n",
       "    <tr>\n",
       "      <th>5</th>\n",
       "      <td>1464.7</td>\n",
       "      <td>6.4</td>\n",
       "    </tr>\n",
       "    <tr>\n",
       "      <th>6</th>\n",
       "      <td>1464.7</td>\n",
       "      <td>7.9</td>\n",
       "    </tr>\n",
       "    <tr>\n",
       "      <th>7</th>\n",
       "      <td>1464.8</td>\n",
       "      <td>9.6</td>\n",
       "    </tr>\n",
       "    <tr>\n",
       "      <th>8</th>\n",
       "      <td>1464.9</td>\n",
       "      <td>11.4</td>\n",
       "    </tr>\n",
       "    <tr>\n",
       "      <th>9</th>\n",
       "      <td>1465.1</td>\n",
       "      <td>13.5</td>\n",
       "    </tr>\n",
       "    <tr>\n",
       "      <th>10</th>\n",
       "      <td>1465.4</td>\n",
       "      <td>15.8</td>\n",
       "    </tr>\n",
       "    <tr>\n",
       "      <th>11</th>\n",
       "      <td>1465.6</td>\n",
       "      <td>18.5</td>\n",
       "    </tr>\n",
       "    <tr>\n",
       "      <th>12</th>\n",
       "      <td>1465.8</td>\n",
       "      <td>21.6</td>\n",
       "    </tr>\n",
       "    <tr>\n",
       "      <th>13</th>\n",
       "      <td>1465.8</td>\n",
       "      <td>25.2</td>\n",
       "    </tr>\n",
       "    <tr>\n",
       "      <th>14</th>\n",
       "      <td>1465.9</td>\n",
       "      <td>29.4</td>\n",
       "    </tr>\n",
       "    <tr>\n",
       "      <th>15</th>\n",
       "      <td>1465.7</td>\n",
       "      <td>34.4</td>\n",
       "    </tr>\n",
       "    <tr>\n",
       "      <th>16</th>\n",
       "      <td>1464.7</td>\n",
       "      <td>40.3</td>\n",
       "    </tr>\n",
       "    <tr>\n",
       "      <th>17</th>\n",
       "      <td>1462.7</td>\n",
       "      <td>47.4</td>\n",
       "    </tr>\n",
       "    <tr>\n",
       "      <th>18</th>\n",
       "      <td>1458.9</td>\n",
       "      <td>55.8</td>\n",
       "    </tr>\n",
       "    <tr>\n",
       "      <th>19</th>\n",
       "      <td>1457.6</td>\n",
       "      <td>65.8</td>\n",
       "    </tr>\n",
       "    <tr>\n",
       "      <th>20</th>\n",
       "      <td>1457.4</td>\n",
       "      <td>77.9</td>\n",
       "    </tr>\n",
       "    <tr>\n",
       "      <th>21</th>\n",
       "      <td>1457.2</td>\n",
       "      <td>92.3</td>\n",
       "    </tr>\n",
       "    <tr>\n",
       "      <th>22</th>\n",
       "      <td>1459.8</td>\n",
       "      <td>109.7</td>\n",
       "    </tr>\n",
       "    <tr>\n",
       "      <th>23</th>\n",
       "      <td>1464.7</td>\n",
       "      <td>130.7</td>\n",
       "    </tr>\n",
       "    <tr>\n",
       "      <th>24</th>\n",
       "      <td>1477.5</td>\n",
       "      <td>155.9</td>\n",
       "    </tr>\n",
       "    <tr>\n",
       "      <th>25</th>\n",
       "      <td>1488.0</td>\n",
       "      <td>186.1</td>\n",
       "    </tr>\n",
       "    <tr>\n",
       "      <th>26</th>\n",
       "      <td>1490.5</td>\n",
       "      <td>222.5</td>\n",
       "    </tr>\n",
       "    <tr>\n",
       "      <th>27</th>\n",
       "      <td>1487.9</td>\n",
       "      <td>266.0</td>\n",
       "    </tr>\n",
       "    <tr>\n",
       "      <th>28</th>\n",
       "      <td>1483.4</td>\n",
       "      <td>318.1</td>\n",
       "    </tr>\n",
       "    <tr>\n",
       "      <th>29</th>\n",
       "      <td>1481.6</td>\n",
       "      <td>380.2</td>\n",
       "    </tr>\n",
       "    <tr>\n",
       "      <th>30</th>\n",
       "      <td>1480.3</td>\n",
       "      <td>453.9</td>\n",
       "    </tr>\n",
       "    <tr>\n",
       "      <th>31</th>\n",
       "      <td>1480.5</td>\n",
       "      <td>541.1</td>\n",
       "    </tr>\n",
       "    <tr>\n",
       "      <th>32</th>\n",
       "      <td>1481.8</td>\n",
       "      <td>643.6</td>\n",
       "    </tr>\n",
       "    <tr>\n",
       "      <th>33</th>\n",
       "      <td>1482.2</td>\n",
       "      <td>763.3</td>\n",
       "    </tr>\n",
       "    <tr>\n",
       "      <th>34</th>\n",
       "      <td>1484.4</td>\n",
       "      <td>902.3</td>\n",
       "    </tr>\n",
       "  </tbody>\n",
       "</table>\n",
       "</div>"
      ],
      "text/plain": [
       "    Sound Speed  Depth (m)\n",
       "0        1464.6        0.5\n",
       "1        1464.6        1.5\n",
       "2        1464.6        2.6\n",
       "3        1464.6        3.8\n",
       "4        1464.7        5.1\n",
       "5        1464.7        6.4\n",
       "6        1464.7        7.9\n",
       "7        1464.8        9.6\n",
       "8        1464.9       11.4\n",
       "9        1465.1       13.5\n",
       "10       1465.4       15.8\n",
       "11       1465.6       18.5\n",
       "12       1465.8       21.6\n",
       "13       1465.8       25.2\n",
       "14       1465.9       29.4\n",
       "15       1465.7       34.4\n",
       "16       1464.7       40.3\n",
       "17       1462.7       47.4\n",
       "18       1458.9       55.8\n",
       "19       1457.6       65.8\n",
       "20       1457.4       77.9\n",
       "21       1457.2       92.3\n",
       "22       1459.8      109.7\n",
       "23       1464.7      130.7\n",
       "24       1477.5      155.9\n",
       "25       1488.0      186.1\n",
       "26       1490.5      222.5\n",
       "27       1487.9      266.0\n",
       "28       1483.4      318.1\n",
       "29       1481.6      380.2\n",
       "30       1480.3      453.9\n",
       "31       1480.5      541.1\n",
       "32       1481.8      643.6\n",
       "33       1482.2      763.3\n",
       "34       1484.4      902.3"
      ]
     },
     "execution_count": 589,
     "metadata": {},
     "output_type": "execute_result"
    }
   ],
   "source": [
    "profile_depth_sspeed = profile[['Sound Speed', 'Depth (m)']] # extracting only the soundspeed and depth column\n",
    "profile_depth_sspeed = profile_depth_sspeed[profile_depth_sspeed ['Depth (m)'] < 1000] #taking only the rows where depth < 1000\n",
    "profile_depth_sspeed\n"
   ]
  },
  {
   "cell_type": "code",
   "execution_count": 590,
   "id": "departmental-sacramento",
   "metadata": {},
   "outputs": [
    {
     "data": {
      "text/plain": [
       "Text(0.5, 0, 'Speed of sound [m/s]')"
      ]
     },
     "execution_count": 590,
     "metadata": {},
     "output_type": "execute_result"
    },
    {
     "data": {
      "image/png": "[encoded data removed]",
      "text/plain": [
       "<Figure size 720x720 with 1 Axes>"
      ]
     },
     "metadata": {
      "needs_background": "light"
     },
     "output_type": "display_data"
    }
   ],
   "source": [
    "fig, ax = plt.subplots(1,1,figsize=(10,10))\n",
    "ax.plot(profile_depth_sspeed['Sound Speed'], profile_depth_sspeed['Depth (m)'])\n",
    "ax.grid(True)\n",
    "ax.set_ylim([1000,0])\n",
    "ax.set_ylabel('Depth [m]')\n",
    "ax.set_xlabel('Speed of sound [m/s]')"
   ]
  },
  {
   "cell_type": "markdown",
   "id": "leading-preview",
   "metadata": {},
   "source": [
    "Using the *find_peaks()* function from *scipy.signal* to detect the localminima"
   ]
  },
  {
   "cell_type": "code",
   "execution_count": 591,
   "id": "broken-harris",
   "metadata": {},
   "outputs": [],
   "source": [
    "profile_np = np.array(profile_depth_sspeed['Sound Speed'])\n",
    "local_minima = sp.find_peaks(-profile_np) # get the index array of local minima\n",
    "local_minima =local_minima[0]\n",
    "local_maxima = sp.find_peaks(profile_np) # get the index array of the local maxima\n",
    "local_maxima = local_maxima[0]\n"
   ]
  },
  {
   "cell_type": "markdown",
   "id": "sunrise-pierre",
   "metadata": {},
   "source": [
    "Plotting the returned minima and maxima on the sound speed profile plot."
   ]
  },
  {
   "cell_type": "code",
   "execution_count": 592,
   "id": "expired-somalia",
   "metadata": {},
   "outputs": [
    {
     "data": {
      "text/plain": [
       "[<matplotlib.lines.Line2D at 0x7fcec0c5ea58>]"
      ]
     },
     "execution_count": 592,
     "metadata": {},
     "output_type": "execute_result"
    },
    {
     "data": {
      "image/png": "[encoded data removed]",
      "text/plain": [
       "<Figure size 720x720 with 1 Axes>"
      ]
     },
     "metadata": {
      "needs_background": "light"
     },
     "output_type": "display_data"
    }
   ],
   "source": [
    "fig, ax = plt.subplots(1,1,figsize=(10,10))\n",
    "ax.plot(profile_depth_sspeed['Sound Speed'], profile_depth_sspeed['Depth (m)'])\n",
    "ax.grid(True)\n",
    "ax.set_ylim([1000,0])\n",
    "ax.set_ylabel('Depth [m]')\n",
    "ax.set_xlabel('Speed of sound [m/s]')\n",
    "ax.plot(profile_depth_sspeed['Sound Speed'][local_minima],profile_depth_sspeed['Depth (m)'][local_minima],'r.',markersize=10)\n",
    "ax.plot(profile_depth_sspeed['Sound Speed'][local_maxima],profile_depth_sspeed['Depth (m)'][local_maxima],'g.',markersize=10)"
   ]
  },
  {
   "cell_type": "markdown",
   "id": "knowing-demographic",
   "metadata": {},
   "source": [
    "#### Checking if array *local_minima* has 2 or more minima\n",
    "    - If yes, The difference in sound speed between the local maxima and the first local minimum must be greater than 5 m/s.\n",
    "       \n",
    "       If two local minima exist but only one local maximum exists then\n",
    "   \n",
    "            - The difference in the speed of sound at the surface and the first local minimum is greater than 5 m/s and the difference between the speed of sound at the local minimum and     local maximum is greater than 5 m/s.\n",
    "\n",
    "Followed this file for reference.\n",
    "https://github.com/DFO-Ocean-Navigator/Ocean-Data-Map-Project/blob/master/data/calculated_parser/functions.py"
   ]
  },
  {
   "cell_type": "code",
   "execution_count": 593,
   "id": "representative-collapse",
   "metadata": {},
   "outputs": [
    {
     "name": "stdout",
     "output_type": "stream",
     "text": [
      "p1 p2 p3 : 14 21 26\n",
      "c1 = 8.700000000000045m/s\n",
      "c2 = 33.299999999999955m/s\n",
      "Value of Potential sub-surface channel :1\n"
     ]
    }
   ],
   "source": [
    "has_PSSC = 0\n",
    "\n",
    "sound_speed = profile_depth_sspeed['Sound Speed']\n",
    "depth = profile_depth_sspeed['Depth (m)']\n",
    "if len(local_minima)>=2: #if there are 2 or more minima\n",
    "    p1 = 0 # surface\n",
    "    p2 = local_minima[0] #first minimum\n",
    "    if len(local_maxima)>=2: # if there are more than one maxima\n",
    "        p1 = local_maxima[0] #first maximum\n",
    "        p3 = local_maxima[1] #second maximum\n",
    "    else: #only one local maximum\n",
    "        p3 =  local_maxima[0] \n",
    "        if p3 < p2: # the only one maxima is higher in the water column than the minima\n",
    "            has_PSSC=0\n",
    "    print(\"p1 p2 p3 : \" +str(p1)+\" \"+str(p2)+\" \"+str(p3))\n",
    "    p1_sound_speed = sound_speed[p1]\n",
    "    p2_sound_speed = sound_speed[p2]\n",
    "    p3_sound_speed = sound_speed[p3]\n",
    "    \n",
    "    c1 = abs(p1_sound_speed-p2_sound_speed) \n",
    "    c2 = abs(p3_sound_speed-p2_sound_speed)\n",
    "    print(\"c1 = \"+ str(c1) +\"m/s\")\n",
    "    print(\"c2 = \"+ str(c2) +\"m/s\")\n",
    "    \n",
    "    if c1>5 and c2>5:\n",
    "        has_PSSC =1\n",
    "    else:\n",
    "        has_PSSC =0\n",
    "else:\n",
    "    has_PSSC =0 \n",
    "\n",
    "print(\"Value of Potential sub-surface channel :\" + str(has_PSSC))"
   ]
  },
  {
   "cell_type": "markdown",
   "id": "administrative-excuse",
   "metadata": {},
   "source": [
    "Displaying the c1 and c2 in the plot"
   ]
  },
  {
   "cell_type": "code",
   "execution_count": 594,
   "id": "destroyed-violence",
   "metadata": {},
   "outputs": [],
   "source": [
    "left, width = .25, .5\n",
    "bottom, height = .25, .5\n",
    "right = left + width\n",
    "top = bottom + height"
   ]
  },
  {
   "cell_type": "code",
   "execution_count": 599,
   "id": "surprising-somerset",
   "metadata": {},
   "outputs": [
    {
     "name": "stdout",
     "output_type": "stream",
     "text": [
      "24.070100070373744\n"
     ]
    },
    {
     "data": {
      "text/plain": [
       "Text(0.375, 0.5, 'Angle between the gradient lines : 24 degrees')"
      ]
     },
     "execution_count": 599,
     "metadata": {},
     "output_type": "execute_result"
    },
    {
     "data": {
      "image/png": "[encoded data removed]",
      "text/plain": [
       "<Figure size 720x720 with 1 Axes>"
      ]
     },
     "metadata": {
      "needs_background": "light"
     },
     "output_type": "display_data"
    }
   ],
   "source": [
    "fig, ax = plt.subplots(1,1,figsize=(10,10))\n",
    "ax.plot(sound_speed,depth)\n",
    "ax.grid(True)\n",
    "ax.set_ylim([1000,0])\n",
    "ax.set_ylabel('Depth [m]')\n",
    "ax.set_xlabel('Speed of sound [m/s]')\n",
    "ax.plot(sound_speed[local_minima],depth[local_minima],'r.',markersize=10)\n",
    "ax.plot(sound_speed[local_maxima],depth[local_maxima],'g.',markersize=10)\n",
    "#plotting c1\n",
    "x_p1p2 = [sound_speed[i] for i in [p1,p2]]\n",
    "y_p1p2 = [depth[i] for i in [p2,p2]]\n",
    "ax.plot(x_p1p2, y_p1p2, 'y^--',label= \"c1\")\n",
    "#plotting c2\n",
    "x_p3p2 = [sound_speed[i] for i in [p3,p2]]\n",
    "y_p3p2 = [depth[i] for i in [p3,p3]]\n",
    "ax.plot(x_p3p2, y_p3p2, 'y^--',label= \"c2\")\n",
    "\n",
    "### A conceptal implementation of slope of profile below SLD\n",
    "\n",
    "# poc code for the negative slope of profile below SLD\n",
    "neg_gradient_x = pd.Series(sound_speed[p1:p2])\n",
    "neg_gradient_y = pd.Series(depth[p1:p2])\n",
    "slope1, intercept1 = np.polyfit(neg_gradient_x,neg_gradient_y,1)\n",
    "ax.plot(neg_gradient_x, slope1*neg_gradient_x + intercept1, linewidth=3,color='green')\n",
    "# poc code for the positive slope of profile below SLD\n",
    "channel_end_depth = np.interp(sound_speed[p1], sound_speed, depth) #interpolating the depth, where the sound speed value will be equalt to Sound speed at SLD\n",
    "channel_end_index = depth[p2:].sub(channel_end_depth).abs().idxmin()\n",
    "pos_gradient_x = pd.Series(sound_speed[p2:channel_end_index+1])\n",
    "pos_gradient_y = pd.Series(depth[p2:channel_end_index+1])\n",
    "slope2, intercept2 = np.polyfit(pos_gradient_x,pos_gradient_y,1)\n",
    "ax.plot(pos_gradient_x, slope2*pos_gradient_x + intercept2, linewidth=3,color='green')\n",
    "\n",
    "# Calculate the angle between the two lines\n",
    "temp = (slope2-slope1)/(1+(slope1*slope2))\n",
    "angle = abs(math.degrees(math.atan(temp)))\n",
    "print(angle)\n",
    "\n",
    "ax.text(0.5*(right), 0.5*(bottom+top), 'Angle between the gradient lines : ' + str(round(angle)) +\" degrees\",\n",
    "        horizontalalignment='center',\n",
    "        verticalalignment='center',\n",
    "        fontsize=16, color='green',\n",
    "        transform=ax.transAxes)"
   ]
  },
  {
   "cell_type": "markdown",
   "id": "wound-marsh",
   "metadata": {},
   "source": [
    "## Refactoring the steps inside a function\n",
    "The steps to find the potential sub-surface channel is refactored in a function below. "
   ]
  },
  {
   "cell_type": "code",
   "execution_count": 600,
   "id": "reduced-tender",
   "metadata": {},
   "outputs": [],
   "source": [
    "\"\"\"\n",
    "     Detect if there is sub-surface channel. \n",
    "     Required Arguments:\n",
    "        * depth: Depth in meters\n",
    "        * sspeed: Sound speed in m/s\n",
    "     Returns 1 if the profile has a sub-surface channel, 0 if the profile does not have a sub-surface channel\n",
    "\"\"\"\n",
    "def detect_potential_sub_surface_channel(depth, sspeed)-> bool:\n",
    "    has_PSSC = 0\n",
    "    # Trimming the profile considering the depth above 1000m\n",
    "    depth = depth[depth<1000]\n",
    "    sspeed = sspeed[0:(len(depth))]\n",
    "    # detecting the local minima and local maxima for the sound speed profile\n",
    "    local_minima = sp.find_peaks(-sspeed)[0] # get the index array of local minima\n",
    "    local_maxima = sp.find_peaks(sspeed)[0] # get the index array of local maxima\n",
    "    if len(local_minima)>=2: #if there are 2 or more minima\n",
    "        p1 = 0 # surface\n",
    "        p2 = local_minima[0] #first minimum\n",
    "        if len(local_maxima)>=2: # if there are more than one maxima\n",
    "            p1 = local_maxima[0] #first maximum\n",
    "            p3 = local_maxima[1] #second maximum\n",
    "        else: #only one local maximum\n",
    "            p3 =  local_maxima[0] \n",
    "            if p3 < p2: # the only one maxima is higher in the water column than the minima\n",
    "                has_PSSC=0\n",
    "        print(\"p1 p2 p3 : \" +str(p1)+\" \"+str(p2)+\" \"+str(p3))\n",
    "        p1_sound_speed = sound_speed[p1]\n",
    "        p2_sound_speed = sound_speed[p2]\n",
    "        p3_sound_speed = sound_speed[p3]\n",
    "    \n",
    "        c1 = abs(p1_sound_speed-p2_sound_speed) \n",
    "        c2 = abs(p3_sound_speed-p2_sound_speed)\n",
    "        #print(\"c1 = \"+ str(c1) +\"m/s\")\n",
    "        #print(\"c2 = \"+ str(c2) +\"m/s\")\n",
    "    \n",
    "        if c1>5 and c2>5:\n",
    "            has_PSSC =1\n",
    "        else:\n",
    "            has_PSSC =0\n",
    "    else:\n",
    "        has_PSSC =0 \n",
    "    #print(local_minima)\n",
    "    #print(local_maxima)\n",
    "    return has_PSSC"
   ]
  },
  {
   "cell_type": "code",
   "execution_count": 601,
   "id": "lovely-granny",
   "metadata": {},
   "outputs": [
    {
     "name": "stdout",
     "output_type": "stream",
     "text": [
      "p1 p2 p3 : 14 21 26\n"
     ]
    },
    {
     "data": {
      "text/plain": [
       "1"
      ]
     },
     "execution_count": 601,
     "metadata": {},
     "output_type": "execute_result"
    }
   ],
   "source": [
    "depth = profile['Depth (m)']\n",
    "sspeed = profile['Sound Speed']\n",
    "detect_potential_sub_surface_channel(depth, sspeed)"
   ]
  },
  {
   "cell_type": "markdown",
   "id": "helpful-shaft",
   "metadata": {},
   "source": [
    "## Next steps\n",
    "Test this code using some profiles from Navigator\n",
    "- ~~Refactor the code into a single method (what will be the inputs in that case?)~~\n",
    "- ~~Find 5 profiles that will have a sub-surface channel (will return 1)~~\n",
    "- ~~Find 5 profiles where sub-surface channel exists (will return 0)~~\n",
    "- Verify that this algorithm works\n"
   ]
  },
  {
   "cell_type": "markdown",
   "id": "joined-reduction",
   "metadata": {},
   "source": [
    "### Modification Planned to integrate frequency cutoff \n",
    "The previously stated definition of sub-surface channel used a constant value 5 m/s to compare the distance between the maxima and the minima. That 5 m/s value is \t&#916;C in the following image, which is the difference between **first minima** and **first maxima**.\n",
    "\n",
    "![Sound Channel](images/SoundChannel.jpg)\n",
    "\n",
    "(On the above image when mentioning the Channel width it is shown as &#916;C, but it will be &#916;Z )\n",
    "\n",
    "From the above image and the following equation, it can be seen that, &#916;C is dependent on C<sub>min</sub> (Local Minima on the first negative gradient), &#916;Z (Channel Width) which can be calculated from the sound profile. And we have to use a fixed value of f<sub>cutoff</sub> when we calculate &#916;C. **This value of f<sub>cutoff</sub>  will indicate the minimum frequency of sound that will be trapped in that sub-surface sound channel**\n",
    "\n",
    "![Frequency cut off Equation](images/eqn.jpg)\n",
    "\n",
    "\n"
   ]
  },
  {
   "cell_type": "markdown",
   "id": "colonial-technique",
   "metadata": {},
   "source": [
    "\n",
    "#### Question \n",
    "- Are we intending to calculate the &#916;C considering a fixed value of f<sub>cutoff</sub>, which indicates that, the navigator will detect a sound channel which will allow to pass/trap sound of a minimum frequency of pre-determined f<sub>cutoff</sub>.\n",
    "\n",
    "- Or another approach can be, user can select or input a value for f<sub>cutoff</sub> from *Navigator* UI and then we will calculate the &#916;C from that selected f<sub>cutoff</sub>. This approach will provide the user a way to check, if a sub-surface channel exists for a specific minimum frequency of sound. \n",
    "\n"
   ]
  },
  {
   "cell_type": "markdown",
   "id": "computational-think",
   "metadata": {},
   "source": [
    "#### Calculating the ΔC\n",
    "We are making a function so that we can calculate the ΔC from a given sound-profile and a value for f<sub>cutoff</sub>\n",
    "\n",
    "\\begin{align*}\n",
    "\\Delta C = \\frac{C_{min}}{\\big(\\frac{f_{cutoff} \\times \\Delta Z}{0.2652   \\times   C_{min}}\\big)^{2}}\n",
    "\\end{align*}"
   ]
  },
  {
   "cell_type": "code",
   "execution_count": 486,
   "id": "classified-aging",
   "metadata": {},
   "outputs": [],
   "source": [
    "\"\"\"\n",
    "     Calculate ΔC from a given sound profile and freq cutoff\n",
    "     Required Arguments:\n",
    "        * depth: Depth in meters\n",
    "        * sspeed: Sound speed in m/s\n",
    "        * freq_cutoff: Desired frequency cutoff in Hz\n",
    "     Returns the value of ΔC, which will later be used inside the \n",
    "\"\"\"\n",
    "def calculate_del_C(depth, sspeed, freq_cutoff):\n",
    "    # Getting Cmin from the sound speed profile\n",
    "    first_local_minimum = sp.find_peaks(-sspeed)[0][0]\n",
    "    Cmin = sspeed[first_local_minimum]\n",
    "    #Calculating del_Z\n",
    "    local_maximum = sp.find_peaks(sspeed)[0][0]\n",
    "    channel_start_depth = depth[local_maximum]\n",
    "    channel_end_depth = np.interp(sspeed[local_maximum], sspeed, depth) \n",
    "    del_Z = channel_end_depth - channel_start_depth\n",
    "    # print(channel_start_depth)\n",
    "    # Final calculation of delC\n",
    "    numerator = freq_cutoff * del_Z\n",
    "    denominator = 0.2652 * Cmin\n",
    "    final_denom = numerator/denominator\n",
    "    final_denom =np.power(final_denom,2)\n",
    "    delC = float(Cmin/final_denom)\n",
    "    return delC\n",
    "    "
   ]
  },
  {
   "cell_type": "code",
   "execution_count": 487,
   "id": "incident-tuesday",
   "metadata": {},
   "outputs": [
    {
     "data": {
      "text/plain": [
       "0.006489289007673262"
      ]
     },
     "execution_count": 487,
     "metadata": {},
     "output_type": "execute_result"
    }
   ],
   "source": [
    "f_cutoff = 2755.031856\n",
    "calculate_del_C(depth,sspeed, f_cutoff)"
   ]
  },
  {
   "cell_type": "markdown",
   "id": "deluxe-woman",
   "metadata": {},
   "source": [
    "### Integrating this *calculate_del_C()* function inside the *detect_potential_sub_surface_channel()* function\n",
    "So, as we have implemented a way to calculate the value of ΔC from a given sound profile and a given value of f<sub>cutoff</sub>. This function will be used on our previously implemented sub-surface detection function. \n",
    "- First implementation will take a frequency cutoff input, and will calculate ΔC for that specific freq_cutoff value (v2)\n",
    "- Second implementation will not take any frequency cutoff input. Rather it will calculate the ΔC for a pre-defined frequency cutoff (For this example we will use freq_cutoff value of 2755.031856 Hz) (v3)\n",
    "\n",
    "#### Implementation v2\n",
    "This implementation will take $f_{cutoff}$ as input, which will provide the user a way to select a value of $f_{cutoff}$ that the user might be interested in. We will use this one, if the user wants to select a minimum value for frequency cutoff on the Navigator UI. For example, if the ask is, **I want to check if a certain location contains a sub-surface channel that can trap sound that is greater than a given amount of frequency**"
   ]
  },
  {
   "cell_type": "code",
   "execution_count": 496,
   "id": "handmade-advertiser",
   "metadata": {},
   "outputs": [],
   "source": [
    "\"\"\"\n",
    "     Implementaion #2\n",
    "     Detect if there is sub-surface channel. \n",
    "     Required Arguments:\n",
    "        * depth: Depth in meters\n",
    "        * sspeed: Sound speed in m/s\n",
    "        * freq_cutoff: Desired frequency cutoff in Hz\n",
    "     Returns 1 if the profile has a sub-surface channel, 0 if the profile does not have a sub-surface channel\n",
    "\"\"\"\n",
    "def detect_potential_sub_surface_channel_v2(depth, sspeed, freq_cutoff)-> bool:\n",
    "    has_PSSC = 0\n",
    "    del_C = calculate_del_C(depth, sspeed, freq_cutoff)\n",
    "    # Trimming the profile considering the depth above 1000m\n",
    "    depth = depth[depth<1000]\n",
    "    sspeed = sspeed[0:(len(depth))]\n",
    "    # detecting the local minima and local maxima for the sound speed profile\n",
    "    local_minima = sp.find_peaks(-sspeed)[0] # get the index array of local minima\n",
    "    local_maxima = sp.find_peaks(sspeed)[0] # get the index array of local maxima\n",
    "    if len(local_minima)>=2: #if there are 2 or more minima\n",
    "        p1 = 0 # surface\n",
    "        p2 = local_minima[0] #first minimum\n",
    "        if len(local_maxima)>=2: # if there are more than one maxima\n",
    "            p1 = local_maxima[0] #first maximum\n",
    "            p3 = local_maxima[1] #second maximum\n",
    "        else: #only one local maximum\n",
    "            p3 =  local_maxima[0] \n",
    "            if p3 < p2: # the only one maxima is higher in the water column than the minima\n",
    "                has_PSSC=0\n",
    "        # print(\"p1 p2 p3 : \" +str(p1)+\" \"+str(p2)+\" \"+str(p3))\n",
    "        p1_sound_speed = sound_speed[p1]\n",
    "        p2_sound_speed = sound_speed[p2]\n",
    "        p3_sound_speed = sound_speed[p3]\n",
    "    \n",
    "        c1 = abs(p1_sound_speed-p2_sound_speed) \n",
    "        c2 = abs(p3_sound_speed-p2_sound_speed)\n",
    "        #print(\"c1 = \"+ str(c1) +\"m/s\")\n",
    "        #print(\"c2 = \"+ str(c2) +\"m/s\")\n",
    "    \n",
    "        if c1> del_C and c2> del_C: # Changing this comparison to check with the calculated ΔC\n",
    "            has_PSSC =1\n",
    "        else:\n",
    "            has_PSSC =0\n",
    "    else:\n",
    "        has_PSSC =0 \n",
    "    #print(local_minima)\n",
    "    #print(local_maxima)\n",
    "    return has_PSSC"
   ]
  },
  {
   "cell_type": "markdown",
   "id": "angry-deviation",
   "metadata": {},
   "source": [
    "We will set a *frequency cutoff* of 2755.03 to test the *detect_potential_sub_surface_channel_v2()* function."
   ]
  },
  {
   "cell_type": "code",
   "execution_count": 489,
   "id": "specialized-sandwich",
   "metadata": {},
   "outputs": [
    {
     "data": {
      "text/plain": [
       "1"
      ]
     },
     "execution_count": 489,
     "metadata": {},
     "output_type": "execute_result"
    }
   ],
   "source": [
    "f_cutoff = 2755.03\n",
    "depth = profile['Depth (m)']\n",
    "sspeed = profile['Sound Speed']\n",
    "detect_potential_sub_surface_channel_v2(depth, sspeed, f_cutoff)"
   ]
  },
  {
   "cell_type": "markdown",
   "id": "fancy-plastic",
   "metadata": {},
   "source": [
    "#### Implementation v3\n",
    "It is an alternative to the previous v2 approach which will consider a fixed $f_{cutoff}$, **won't take it as in input to the algorithm** , and calculate $\\Delta C$ considering that pre-determined value. This implementation will be used, if we decide to agree on a fixed value of frequency cutoff. That is, let's say if the ask is, **I want to check if this certain location can have sub-surface channel, which will trap sound of frequency greater than a fixed value(for example 2755.03, or any predetermined value)**"
   ]
  },
  {
   "cell_type": "code",
   "execution_count": 497,
   "id": "pointed-badge",
   "metadata": {},
   "outputs": [],
   "source": [
    "\"\"\"\n",
    "     Implementaion #3\n",
    "     Detect if there is sub-surface channel. \n",
    "     Required Arguments:\n",
    "        * depth: Depth in meters\n",
    "        * sspeed: Sound speed in m/s\n",
    "     Returns 1 if the profile has a sub-surface channel, 0 if the profile does not have a sub-surface channel\n",
    "\"\"\"\n",
    "def detect_potential_sub_surface_channel_v3(depth, sspeed)-> bool:\n",
    "    has_PSSC = 0\n",
    "    del_C = calculate_del_C(depth, sspeed, 2755.03)\n",
    "    # Trimming the profile considering the depth above 1000m\n",
    "    depth = depth[depth<1000]\n",
    "    sspeed = sspeed[0:(len(depth))]\n",
    "    # detecting the local minima and local maxima for the sound speed profile\n",
    "    local_minima = sp.find_peaks(-sspeed)[0] # get the index array of local minima\n",
    "    local_maxima = sp.find_peaks(sspeed)[0] # get the index array of local maxima\n",
    "    if len(local_minima)>=2: #if there are 2 or more minima\n",
    "        p1 = 0 # surface\n",
    "        p2 = local_minima[0] #first minimum\n",
    "        if len(local_maxima)>=2: # if there are more than one maxima\n",
    "            p1 = local_maxima[0] #first maximum\n",
    "            p3 = local_maxima[1] #second maximum\n",
    "        else: #only one local maximum\n",
    "            p3 =  local_maxima[0] \n",
    "            if p3 < p2: # the only one maxima is higher in the water column than the minima\n",
    "                has_PSSC=0\n",
    "        # print(\"p1 p2 p3 : \" +str(p1)+\" \"+str(p2)+\" \"+str(p3))\n",
    "        p1_sound_speed = sound_speed[p1]\n",
    "        p2_sound_speed = sound_speed[p2]\n",
    "        p3_sound_speed = sound_speed[p3]\n",
    "    \n",
    "        c1 = abs(p1_sound_speed-p2_sound_speed) \n",
    "        c2 = abs(p3_sound_speed-p2_sound_speed)\n",
    "        #print(\"c1 = \"+ str(c1) +\"m/s\")\n",
    "        #print(\"c2 = \"+ str(c2) +\"m/s\")\n",
    "    \n",
    "        if c1> del_C and c2> del_C: # Changing this comparison to check with the calculated ΔC\n",
    "            has_PSSC =1\n",
    "        else:\n",
    "            has_PSSC =0\n",
    "    else:\n",
    "        has_PSSC =0 \n",
    "    #print(local_minima)\n",
    "    #print(local_maxima)\n",
    "    return has_PSSC"
   ]
  },
  {
   "cell_type": "code",
   "execution_count": 498,
   "id": "ambient-fundamentals",
   "metadata": {},
   "outputs": [
    {
     "data": {
      "text/plain": [
       "1"
      ]
     },
     "execution_count": 498,
     "metadata": {},
     "output_type": "execute_result"
    }
   ],
   "source": [
    "depth = profile['Depth (m)']\n",
    "sspeed = profile['Sound Speed']\n",
    "detect_potential_sub_surface_channel_v3(depth, sspeed)"
   ]
  },
  {
   "cell_type": "markdown",
   "id": "agricultural-characteristic",
   "metadata": {},
   "source": [
    "## Running the algorithms on an example sound speed profile\n",
    "We will then try to pass a sound-profile to the implemented algorithms. This is the sound profile that was send as an example to have a sub-surface channel(Secondary sound channel as suggested by Adam). This should yield a **1**, if passed to our sub-surface channel detection algorithm. "
   ]
  },
  {
   "cell_type": "code",
   "execution_count": 504,
   "id": "variable-fellow",
   "metadata": {},
   "outputs": [
    {
     "data": {
      "text/plain": [
       "[<matplotlib.lines.Line2D at 0x7fcec268fef0>]"
      ]
     },
     "execution_count": 504,
     "metadata": {},
     "output_type": "execute_result"
    },
    {
     "data": {
      "image/png": "[encoded data removed]",
      "text/plain": [
       "<Figure size 720x720 with 1 Axes>"
      ]
     },
     "metadata": {
      "needs_background": "light"
     },
     "output_type": "display_data"
    }
   ],
   "source": [
    "## reading the sound speed profile\n",
    "sound_speed_profile = pd.read_csv(\"sample-pssc-profiles/ts_giops_day_2021-02-01T16 14 10.909373_require_feedback.csv\", header=2)\n",
    "depth = sound_speed_profile['Depth (m)']\n",
    "sspeed = sound_speed_profile['Sound Speed']\n",
    "# finding minima and maxima in the profile\n",
    "profile_np = np.array(sound_speed_profile['Sound Speed'])\n",
    "local_minima = sp.find_peaks(-profile_np) # get the index array of local minima\n",
    "local_minima =local_minima[0]\n",
    "local_maxima = sp.find_peaks(profile_np) # get the index array of the local maxima\n",
    "local_maxima = local_maxima[0]\n",
    "# plotting the profile\n",
    "fig, ax = plt.subplots(1,1,figsize=(10,10))\n",
    "ax.plot(sound_speed_profile['Sound Speed'], sound_speed_profile['Depth (m)'])\n",
    "ax.grid(True)\n",
    "ax.set_ylim([1000,0])\n",
    "ax.set_ylabel('Depth [m]')\n",
    "ax.set_xlabel('Speed of sound [m/s]')\n",
    "ax.plot(sound_speed_profile['Sound Speed'][local_minima],sound_speed_profile['Depth (m)'][local_minima],'r.',markersize=10)\n",
    "ax.plot(sound_speed_profile['Sound Speed'][local_maxima],sound_speed_profile['Depth (m)'][local_maxima],'g.',markersize=10)"
   ]
  },
  {
   "cell_type": "markdown",
   "id": "rubber-christmas",
   "metadata": {},
   "source": [
    "#### Passing the profile to detect_potential_sub_surface_channel (version 1)\n",
    "We will pass the sound speed profile to the first version of implementation, which is written following the previously stated definition of [**Potential sub-surface sound channel**](#-potential-sub-surface-channel) (Without considering the frequency cutoff)\n"
   ]
  },
  {
   "cell_type": "code",
   "execution_count": 503,
   "id": "instructional-algebra",
   "metadata": {},
   "outputs": [
    {
     "data": {
      "text/plain": [
       "0"
      ]
     },
     "execution_count": 503,
     "metadata": {},
     "output_type": "execute_result"
    }
   ],
   "source": [
    "detect_potential_sub_surface_channel(depth, sspeed)"
   ]
  },
  {
   "cell_type": "markdown",
   "id": "nervous-reporter",
   "metadata": {},
   "source": [
    "This returns a 0, which indicates there are no possible sound-channel according to the provided definition, where as per DND's feedback, this sound-profile should have yield 1, that means, should have a sub-surface channel."
   ]
  },
  {
   "cell_type": "markdown",
   "id": "political-graphics",
   "metadata": {},
   "source": [
    "#### Passing the profile to detect_potential_sub_surface_channel_v2 (version 2)\n",
    "We will now pass the sound speed profile to the second version of implementation, which is constructed following the feedback from Adam, and we tried to integrate the frequency cutoff value for calculating the $\\Delta C$. And we are trying to find out if a sound channel exists for a minimum frequency of  2755.03 Hz, 1561.1 Hz\n"
   ]
  },
  {
   "cell_type": "code",
   "execution_count": 505,
   "id": "communist-pattern",
   "metadata": {},
   "outputs": [
    {
     "data": {
      "text/plain": [
       "0"
      ]
     },
     "execution_count": 505,
     "metadata": {},
     "output_type": "execute_result"
    }
   ],
   "source": [
    "detect_potential_sub_surface_channel_v2(depth, sspeed, 2755.03)"
   ]
  },
  {
   "cell_type": "code",
   "execution_count": 506,
   "id": "absent-patrick",
   "metadata": {},
   "outputs": [
    {
     "data": {
      "text/plain": [
       "0"
      ]
     },
     "execution_count": 506,
     "metadata": {},
     "output_type": "execute_result"
    }
   ],
   "source": [
    "detect_potential_sub_surface_channel_v2(depth, sspeed, 1561.1)"
   ]
  },
  {
   "cell_type": "markdown",
   "id": "moving-sleep",
   "metadata": {},
   "source": [
    "For both value of minimum sound frequency/frequency cutoff, implementation version 2 is showing a result 0 which should be a 1."
   ]
  },
  {
   "cell_type": "markdown",
   "id": "careful-engineer",
   "metadata": {},
   "source": [
    "#### Passing the profile to detect_potential_sub_surface_channel_v3 (version 3)\n",
    "We will now pass the sound speed profile to the second version of implementation, which is also constructed following the feedback from Adam, and we tried to integrate the frequency cutoff value for calculating the $\\Delta C$. And we are trying to find out if a sound channel exists for a minimum frequency of 2755.03 Hz. (This is fixed and can not be passed in implementation version 3)\n"
   ]
  },
  {
   "cell_type": "code",
   "execution_count": 507,
   "id": "negative-colonial",
   "metadata": {},
   "outputs": [
    {
     "data": {
      "text/plain": [
       "0"
      ]
     },
     "execution_count": 507,
     "metadata": {},
     "output_type": "execute_result"
    }
   ],
   "source": [
    "detect_potential_sub_surface_channel_v3(depth, sspeed)"
   ]
  },
  {
   "cell_type": "markdown",
   "id": "guided-vinyl",
   "metadata": {},
   "source": [
    "### Issue regarding the implementations\n",
    "In all of the implementations we have assumed that, to have a sub-surface channel, a sound profile must have two local minima. But, the sound profile that is provided by the DND, clearly has only one minima on the plot. That's why it is not satisfying the primary condition of having two minima, thus not detecting a sub-surface channel. \n",
    "\n",
    "#### Questions\n",
    "1. We need more clarification on the condition of having two minima before 1000m in the definition of sub-surface channel. Do we check for two local minima? or a sub-surface channel can occur if even there are one local minimum on the sound speed profile before 1000m depth (As the previous sound speed profile)\n",
    "2. Do we use the fixed Δ𝐶 value of 5 m/s, or we calculate it for a minimum frequency cutoff? \n",
    "3. If we decide to consider a frequency cutoff to calculate that Δ𝐶, we use the implementation version 2 or version 3? (That is, if we use version 2, it will be possible to provide a value for frequency cutoff from Navigator UI, or if we use version 3, we agree on a fixed value of frequency cutoff)"
   ]
  },
  {
   "cell_type": "markdown",
   "id": "digital-juvenile",
   "metadata": {},
   "source": [
    "### An alternative implementation \n",
    "We will now try to write up an alternative implementation, which considers there can be a sub-surface channel if even there's only one local minima in the sound speed channel. We will try to integrate the concept of frequency cutoff in this new version of implementation. We will"
   ]
  },
  {
   "cell_type": "code",
   "execution_count": null,
   "id": "statutory-columbia",
   "metadata": {},
   "outputs": [],
   "source": [
    "\"\"\"\n",
    "     Implementaion #4\n",
    "     Detect if there is sub-surface channel. \n",
    "     Required Arguments:\n",
    "        * depth: Depth in meters\n",
    "        * sspeed: Sound speed in m/s\n",
    "     Returns 1 if the profile has a sub-surface channel, 0 if the profile does not have a sub-surface channel\n",
    "\"\"\"\n",
    "def detect_potential_sub_surface_channel_v3(depth, sspeed, freq_cutoff)-> bool:\n",
    "    has_PSSC = 0\n",
    "    del_C = calculate_del_C(depth, sspeed, freq_cutoff)\n",
    "    # Trimming the profile considering the depth above 1000m\n",
    "    depth = depth[depth<1000]\n",
    "    sspeed = sspeed[0:(len(depth))]\n",
    "    # detecting the local minima and local maxima for the sound speed profile\n",
    "    local_minima = sp.find_peaks(-sspeed)[0] # get the index array of local minima\n",
    "    local_maxima = sp.find_peaks(sspeed)[0] # get the index array of local maxima\n",
    "    if len(local_minima)>=2: #if there are 2 or more minima\n",
    "        p1 = 0 # surface\n",
    "        p2 = local_minima[0] #first minimum\n",
    "        if len(local_maxima)>=2: # if there are more than one maxima\n",
    "            p1 = local_maxima[0] #first maximum\n",
    "            p3 = local_maxima[1] #second maximum\n",
    "        else: #only one local maximum\n",
    "            p3 =  local_maxima[0] \n",
    "            if p3 < p2: # the only one maxima is higher in the water column than the minima\n",
    "                has_PSSC=0\n",
    "        # print(\"p1 p2 p3 : \" +str(p1)+\" \"+str(p2)+\" \"+str(p3))\n",
    "        p1_sound_speed = sound_speed[p1]\n",
    "        p2_sound_speed = sound_speed[p2]\n",
    "        p3_sound_speed = sound_speed[p3]\n",
    "    \n",
    "        c1 = abs(p1_sound_speed-p2_sound_speed) \n",
    "        c2 = abs(p3_sound_speed-p2_sound_speed)\n",
    "        #print(\"c1 = \"+ str(c1) +\"m/s\")\n",
    "        #print(\"c2 = \"+ str(c2) +\"m/s\")\n",
    "    \n",
    "        if c1> del_C and c2> del_C: # Changing this comparison to check with the calculated ΔC\n",
    "            has_PSSC =1\n",
    "        else:\n",
    "            has_PSSC =0\n",
    "    else:\n",
    "        has_PSSC =0 \n",
    "    #print(local_minima)\n",
    "    #print(local_maxima)\n",
    "    return has_PSSC"
   ]
  }
 ],
 "metadata": {
  "kernelspec": {
   "display_name": "navigator_env",
   "language": "python",
   "name": "navigator"
  },
  "language_info": {
   "codemirror_mode": {
    "name": "ipython",
    "version": 3
   },
   "file_extension": ".py",
   "mimetype": "text/x-python",
   "name": "python",
   "nbconvert_exporter": "python",
   "pygments_lexer": "ipython3",
   "version": "3.6.8"
  }
 },
 "nbformat": 4,
 "nbformat_minor": 5
}
