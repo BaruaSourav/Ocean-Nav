{
 "cells": [
  {
   "cell_type": "code",
   "execution_count": 49,
   "id": "possible-facial",
   "metadata": {},
   "outputs": [],
   "source": [
    "import matplotlib.pyplot as plt\n",
    "import numpy as np\n",
    "import seawater\n",
    "import xarray as xr\n",
    "import scipy.signal as sp\n",
    "import pandas as pd\n",
    "\n",
    "%matplotlib inline"
   ]
  },
  {
   "cell_type": "markdown",
   "id": "congressional-briefs",
   "metadata": {},
   "source": [
    "# Potential sub-surface channel\n",
    "This notebook will contain the update as we step forward implementing the **Potential Sub-surface** acoustic variable.It is a boolean that indicates the potential existence of a sub-surface sound channel. \n",
    "\n",
    ">*A sub-surface sound channel can exist if there are two local minima in the sound speed profile above 1000 m.*\n",
    "\n",
    "### Importing a sample profile"
   ]
  },
  {
   "cell_type": "code",
   "execution_count": 359,
   "id": "geographic-routine",
   "metadata": {},
   "outputs": [],
   "source": [
    "#profile = pd.read_csv(\"sample-pssc-profiles/ts_giops_day_2021-01-22T16_45_30.510267.csv\", comment='/') \n",
    "profile = pd.read_csv(\"sample-pssc-profiles/ts_giops_day_2021-02-01T18 26 53.354123.csv\", header=2) "
   ]
  },
  {
   "cell_type": "code",
   "execution_count": 360,
   "id": "hispanic-landing",
   "metadata": {},
   "outputs": [
    {
     "data": {
      "text/plain": [
       "Index(['Latitude', 'Longitude', 'Depth (m)', 'Pressure', 'Salinity',\n",
       "       'Temperature', 'Sound Speed'],\n",
       "      dtype='object')"
      ]
     },
     "execution_count": 360,
     "metadata": {},
     "output_type": "execute_result"
    }
   ],
   "source": [
    "profile.columns"
   ]
  },
  {
   "cell_type": "code",
   "execution_count": 361,
   "id": "joined-hungary",
   "metadata": {},
   "outputs": [
    {
     "data": {
      "text/html": [
       "<div>\n",
       "<style scoped>\n",
       "    .dataframe tbody tr th:only-of-type {\n",
       "        vertical-align: middle;\n",
       "    }\n",
       "\n",
       "    .dataframe tbody tr th {\n",
       "        vertical-align: top;\n",
       "    }\n",
       "\n",
       "    .dataframe thead th {\n",
       "        text-align: right;\n",
       "    }\n",
       "</style>\n",
       "<table border=\"1\" class=\"dataframe\">\n",
       "  <thead>\n",
       "    <tr style=\"text-align: right;\">\n",
       "      <th></th>\n",
       "      <th>Sound Speed</th>\n",
       "      <th>Depth (m)</th>\n",
       "    </tr>\n",
       "  </thead>\n",
       "  <tbody>\n",
       "    <tr>\n",
       "      <th>0</th>\n",
       "      <td>1464.5</td>\n",
       "      <td>0.5</td>\n",
       "    </tr>\n",
       "    <tr>\n",
       "      <th>1</th>\n",
       "      <td>1464.5</td>\n",
       "      <td>1.5</td>\n",
       "    </tr>\n",
       "    <tr>\n",
       "      <th>2</th>\n",
       "      <td>1464.5</td>\n",
       "      <td>2.6</td>\n",
       "    </tr>\n",
       "    <tr>\n",
       "      <th>3</th>\n",
       "      <td>1464.5</td>\n",
       "      <td>3.8</td>\n",
       "    </tr>\n",
       "    <tr>\n",
       "      <th>4</th>\n",
       "      <td>1464.5</td>\n",
       "      <td>5.1</td>\n",
       "    </tr>\n",
       "    <tr>\n",
       "      <th>5</th>\n",
       "      <td>1464.6</td>\n",
       "      <td>6.4</td>\n",
       "    </tr>\n",
       "    <tr>\n",
       "      <th>6</th>\n",
       "      <td>1464.6</td>\n",
       "      <td>7.9</td>\n",
       "    </tr>\n",
       "    <tr>\n",
       "      <th>7</th>\n",
       "      <td>1464.6</td>\n",
       "      <td>9.6</td>\n",
       "    </tr>\n",
       "    <tr>\n",
       "      <th>8</th>\n",
       "      <td>1464.6</td>\n",
       "      <td>11.4</td>\n",
       "    </tr>\n",
       "    <tr>\n",
       "      <th>9</th>\n",
       "      <td>1464.7</td>\n",
       "      <td>13.5</td>\n",
       "    </tr>\n",
       "    <tr>\n",
       "      <th>10</th>\n",
       "      <td>1464.7</td>\n",
       "      <td>15.8</td>\n",
       "    </tr>\n",
       "    <tr>\n",
       "      <th>11</th>\n",
       "      <td>1464.8</td>\n",
       "      <td>18.5</td>\n",
       "    </tr>\n",
       "    <tr>\n",
       "      <th>12</th>\n",
       "      <td>1464.8</td>\n",
       "      <td>21.6</td>\n",
       "    </tr>\n",
       "    <tr>\n",
       "      <th>13</th>\n",
       "      <td>1464.9</td>\n",
       "      <td>25.2</td>\n",
       "    </tr>\n",
       "    <tr>\n",
       "      <th>14</th>\n",
       "      <td>1465.0</td>\n",
       "      <td>29.4</td>\n",
       "    </tr>\n",
       "    <tr>\n",
       "      <th>15</th>\n",
       "      <td>1465.2</td>\n",
       "      <td>34.4</td>\n",
       "    </tr>\n",
       "    <tr>\n",
       "      <th>16</th>\n",
       "      <td>1466.0</td>\n",
       "      <td>40.3</td>\n",
       "    </tr>\n",
       "    <tr>\n",
       "      <th>17</th>\n",
       "      <td>1465.8</td>\n",
       "      <td>47.4</td>\n",
       "    </tr>\n",
       "    <tr>\n",
       "      <th>18</th>\n",
       "      <td>1462.8</td>\n",
       "      <td>55.8</td>\n",
       "    </tr>\n",
       "    <tr>\n",
       "      <th>19</th>\n",
       "      <td>1455.9</td>\n",
       "      <td>65.8</td>\n",
       "    </tr>\n",
       "    <tr>\n",
       "      <th>20</th>\n",
       "      <td>1455.5</td>\n",
       "      <td>77.9</td>\n",
       "    </tr>\n",
       "    <tr>\n",
       "      <th>21</th>\n",
       "      <td>1457.6</td>\n",
       "      <td>92.3</td>\n",
       "    </tr>\n",
       "    <tr>\n",
       "      <th>22</th>\n",
       "      <td>1473.1</td>\n",
       "      <td>109.7</td>\n",
       "    </tr>\n",
       "    <tr>\n",
       "      <th>23</th>\n",
       "      <td>1483.9</td>\n",
       "      <td>130.7</td>\n",
       "    </tr>\n",
       "    <tr>\n",
       "      <th>24</th>\n",
       "      <td>1488.2</td>\n",
       "      <td>155.9</td>\n",
       "    </tr>\n",
       "    <tr>\n",
       "      <th>25</th>\n",
       "      <td>1489.4</td>\n",
       "      <td>186.1</td>\n",
       "    </tr>\n",
       "    <tr>\n",
       "      <th>26</th>\n",
       "      <td>1486.5</td>\n",
       "      <td>222.5</td>\n",
       "    </tr>\n",
       "    <tr>\n",
       "      <th>27</th>\n",
       "      <td>1484.8</td>\n",
       "      <td>266.0</td>\n",
       "    </tr>\n",
       "    <tr>\n",
       "      <th>28</th>\n",
       "      <td>1483.4</td>\n",
       "      <td>318.1</td>\n",
       "    </tr>\n",
       "    <tr>\n",
       "      <th>29</th>\n",
       "      <td>1483.6</td>\n",
       "      <td>380.2</td>\n",
       "    </tr>\n",
       "    <tr>\n",
       "      <th>30</th>\n",
       "      <td>1483.4</td>\n",
       "      <td>453.9</td>\n",
       "    </tr>\n",
       "    <tr>\n",
       "      <th>31</th>\n",
       "      <td>1483.5</td>\n",
       "      <td>541.1</td>\n",
       "    </tr>\n",
       "    <tr>\n",
       "      <th>32</th>\n",
       "      <td>1483.0</td>\n",
       "      <td>643.6</td>\n",
       "    </tr>\n",
       "    <tr>\n",
       "      <th>33</th>\n",
       "      <td>1482.0</td>\n",
       "      <td>763.3</td>\n",
       "    </tr>\n",
       "    <tr>\n",
       "      <th>34</th>\n",
       "      <td>1484.2</td>\n",
       "      <td>902.3</td>\n",
       "    </tr>\n",
       "  </tbody>\n",
       "</table>\n",
       "</div>"
      ],
      "text/plain": [
       "    Sound Speed  Depth (m)\n",
       "0        1464.5        0.5\n",
       "1        1464.5        1.5\n",
       "2        1464.5        2.6\n",
       "3        1464.5        3.8\n",
       "4        1464.5        5.1\n",
       "5        1464.6        6.4\n",
       "6        1464.6        7.9\n",
       "7        1464.6        9.6\n",
       "8        1464.6       11.4\n",
       "9        1464.7       13.5\n",
       "10       1464.7       15.8\n",
       "11       1464.8       18.5\n",
       "12       1464.8       21.6\n",
       "13       1464.9       25.2\n",
       "14       1465.0       29.4\n",
       "15       1465.2       34.4\n",
       "16       1466.0       40.3\n",
       "17       1465.8       47.4\n",
       "18       1462.8       55.8\n",
       "19       1455.9       65.8\n",
       "20       1455.5       77.9\n",
       "21       1457.6       92.3\n",
       "22       1473.1      109.7\n",
       "23       1483.9      130.7\n",
       "24       1488.2      155.9\n",
       "25       1489.4      186.1\n",
       "26       1486.5      222.5\n",
       "27       1484.8      266.0\n",
       "28       1483.4      318.1\n",
       "29       1483.6      380.2\n",
       "30       1483.4      453.9\n",
       "31       1483.5      541.1\n",
       "32       1483.0      643.6\n",
       "33       1482.0      763.3\n",
       "34       1484.2      902.3"
      ]
     },
     "execution_count": 361,
     "metadata": {},
     "output_type": "execute_result"
    }
   ],
   "source": [
    "profile_depth_sspeed = profile[['Sound Speed', 'Depth (m)']] # extracting only the soundspeed and depth column\n",
    "profile_depth_sspeed = profile_depth_sspeed[profile_depth_sspeed ['Depth (m)'] < 1000] #taking only the rows where depth < 1000\n",
    "profile_depth_sspeed\n"
   ]
  },
  {
   "cell_type": "code",
   "execution_count": 362,
   "id": "going-frost",
   "metadata": {},
   "outputs": [
    {
     "data": {
      "text/plain": [
       "Text(0.5, 0, 'Speed of sound [m/s]')"
      ]
     },
     "execution_count": 362,
     "metadata": {},
     "output_type": "execute_result"
    },
    {
     "data": {
      "image/png": "[encoded data removed]",
      "text/plain": [
       "<Figure size 720x720 with 1 Axes>"
      ]
     },
     "metadata": {
      "needs_background": "light"
     },
     "output_type": "display_data"
    }
   ],
   "source": [
    "fig, ax = plt.subplots(1,1,figsize=(10,10))\n",
    "ax.plot(profile_depth_sspeed['Sound Speed'], profile_depth_sspeed['Depth (m)'])\n",
    "ax.grid(True)\n",
    "ax.set_ylim([1000,0])\n",
    "ax.set_ylabel('Depth [m]')\n",
    "ax.set_xlabel('Speed of sound [m/s]')"
   ]
  },
  {
   "cell_type": "markdown",
   "id": "republican-judgment",
   "metadata": {},
   "source": [
    "Using the *find_peaks()* function from *scipy.signal* to detect the localminima"
   ]
  },
  {
   "cell_type": "code",
   "execution_count": 363,
   "id": "patent-geometry",
   "metadata": {},
   "outputs": [],
   "source": [
    "profile_np = np.array(profile_depth_sspeed['Sound Speed'])\n",
    "local_minima = sp.find_peaks(-profile_np) # get the index array of local minima\n",
    "local_minima =local_minima[0]\n",
    "local_maxima = sp.find_peaks(profile_np) # get the index array of the local maxima\n",
    "local_maxima = local_maxima[0]\n"
   ]
  },
  {
   "cell_type": "markdown",
   "id": "simplified-adams",
   "metadata": {},
   "source": [
    "Plotting the returned minima and maxima on the sound speed profile plot."
   ]
  },
  {
   "cell_type": "code",
   "execution_count": 365,
   "id": "accepted-import",
   "metadata": {},
   "outputs": [
    {
     "data": {
      "text/plain": [
       "[<matplotlib.lines.Line2D at 0x7fcec2f75da0>]"
      ]
     },
     "execution_count": 365,
     "metadata": {},
     "output_type": "execute_result"
    },
    {
     "data": {
      "image/png": "[encoded data removed]",
      "text/plain": [
       "<Figure size 720x720 with 1 Axes>"
      ]
     },
     "metadata": {
      "needs_background": "light"
     },
     "output_type": "display_data"
    }
   ],
   "source": [
    "fig, ax = plt.subplots(1,1,figsize=(10,10))\n",
    "ax.plot(profile_depth_sspeed['Sound Speed'], profile_depth_sspeed['Depth (m)'])\n",
    "ax.grid(True)\n",
    "ax.set_ylim([1000,0])\n",
    "ax.set_ylabel('Depth [m]')\n",
    "ax.set_xlabel('Speed of sound [m/s]')\n",
    "ax.plot(profile_depth_sspeed['Sound Speed'][local_minima],profile_depth_sspeed['Depth (m)'][local_minima],'r.',markersize=10)\n",
    "ax.plot(profile_depth_sspeed['Sound Speed'][local_maxima],profile_depth_sspeed['Depth (m)'][local_maxima],'g.',markersize=10)"
   ]
  },
  {
   "cell_type": "markdown",
   "id": "assigned-characterization",
   "metadata": {},
   "source": [
    "#### Checking if array *local_minima* has 2 or more minima\n",
    "    - If yes, The difference in sound speed between the local maxima and the first local minimum must be greater than 5 m/s.\n",
    "       \n",
    "       If two local minima exist but only one local maximum exists then\n",
    "   \n",
    "            - The difference in the speed of sound at the surface and the first local minimum is greater than 5 m/s and the difference between the speed of sound at the local minimum and     local maximum is greater than 5 m/s.\n",
    "\n",
    "Followed this file for reference.\n",
    "https://github.com/DFO-Ocean-Navigator/Ocean-Data-Map-Project/blob/master/data/calculated_parser/functions.py"
   ]
  },
  {
   "cell_type": "code",
   "execution_count": 366,
   "id": "particular-sentence",
   "metadata": {},
   "outputs": [
    {
     "name": "stdout",
     "output_type": "stream",
     "text": [
      "p1 p2 p3 : 16 20 25\n",
      "c1 = 10.5m/s\n",
      "c2 = 33.90000000000009m/s\n",
      "Value of Potential sub-surface channel :1\n"
     ]
    }
   ],
   "source": [
    "has_PSSC = 0\n",
    "# Need to \n",
    "sound_speed = profile_depth_sspeed['Sound Speed']\n",
    "depth = profile_depth_sspeed['Depth (m)']\n",
    "if len(local_minima)>=2: #if there are 2 or more minima\n",
    "    p1 = 0 # surface\n",
    "    p2 = local_minima[0] #first minimum\n",
    "    if len(local_maxima)>=2: # if there are more than one maxima\n",
    "        p1 = local_maxima[0] #first maximum\n",
    "        p3 = local_maxima[1] #second maximum\n",
    "    else: #only one local maximum\n",
    "        p3 =  local_maxima[0] \n",
    "        if p3 < p2: # the only one maxima is higher in the water column than the minima\n",
    "            has_PSSC=0\n",
    "    print(\"p1 p2 p3 : \" +str(p1)+\" \"+str(p2)+\" \"+str(p3))\n",
    "    p1_sound_speed = sound_speed[p1]\n",
    "    p2_sound_speed = sound_speed[p2]\n",
    "    p3_sound_speed = sound_speed[p3]\n",
    "    \n",
    "    c1 = abs(p1_sound_speed-p2_sound_speed) \n",
    "    c2 = abs(p3_sound_speed-p2_sound_speed)\n",
    "    print(\"c1 = \"+ str(c1) +\"m/s\")\n",
    "    print(\"c2 = \"+ str(c2) +\"m/s\")\n",
    "    \n",
    "    if c1>5 and c2>5:\n",
    "        has_PSSC =1\n",
    "    else:\n",
    "        has_PSSC =0\n",
    "else:\n",
    "    has_PSSC =0 \n",
    "\n",
    "print(\"Value of Potential sub-surface channel :\" + str(has_PSSC))"
   ]
  },
  {
   "cell_type": "markdown",
   "id": "adopted-school",
   "metadata": {},
   "source": [
    "Displaying the c1 and c2 in the plot"
   ]
  },
  {
   "cell_type": "code",
   "execution_count": 367,
   "id": "present-williams",
   "metadata": {},
   "outputs": [
    {
     "data": {
      "text/plain": [
       "[<matplotlib.lines.Line2D at 0x7fcec2ef66a0>]"
      ]
     },
     "execution_count": 367,
     "metadata": {},
     "output_type": "execute_result"
    },
    {
     "data": {
      "image/png": "[encoded data removed]",
      "text/plain": [
       "<Figure size 720x720 with 1 Axes>"
      ]
     },
     "metadata": {
      "needs_background": "light"
     },
     "output_type": "display_data"
    }
   ],
   "source": [
    "fig, ax = plt.subplots(1,1,figsize=(10,10))\n",
    "ax.plot(sound_speed,depth)\n",
    "ax.grid(True)\n",
    "ax.set_ylim([500,0])\n",
    "ax.set_ylabel('Depth [m]')\n",
    "ax.set_xlabel('Speed of sound [m/s]')\n",
    "ax.plot(sound_speed[local_minima],depth[local_minima],'r.',markersize=10)\n",
    "ax.plot(sound_speed[local_maxima],depth[local_maxima],'g.',markersize=10)\n",
    "#plotting c1\n",
    "x_p1p2 = [sound_speed[i] for i in [p1,p2]]\n",
    "y_p1p2 = [depth[i] for i in [p2,p2]]\n",
    "ax.plot(x_p1p2, y_p1p2, 'y^--',label= \"c1\")\n",
    "#plotting c2\n",
    "x_p3p2 = [sound_speed[i] for i in [p3,p2]]\n",
    "y_p3p2 = [depth[i] for i in [p3,p3]]\n",
    "ax.plot(x_p3p2, y_p3p2, 'y^--',label= \"c2\")"
   ]
  },
  {
   "cell_type": "markdown",
   "id": "artificial-airport",
   "metadata": {},
   "source": [
    "## Refactoring the steps inside a function\n",
    "The steps to find the potential sub-surface channel is refactored in a function below. "
   ]
  },
  {
   "cell_type": "code",
   "execution_count": 368,
   "id": "finnish-commander",
   "metadata": {},
   "outputs": [],
   "source": [
    "\"\"\"\n",
    "     Detect if there is sub-surface channel. \n",
    "     Required Arguments:\n",
    "        * depth: Depth in meters\n",
    "        * sspeed: Sound speed in m/s\n",
    "     Returns 1 if the profile has a sub-surface channel, 0 if the profile does not have a sub-surface channel\n",
    "\"\"\"\n",
    "def detect_potential_sub_surface_channel(depth, sspeed)-> bool:\n",
    "    has_PSSC = 0\n",
    "    # Trimming the profile considering the depth above 1000m\n",
    "    depth = depth[depth<1000]\n",
    "    sspeed = sspeed[0:(len(depth))]\n",
    "    # detecting the local minima and local maxima for the sound speed profile\n",
    "    local_minima = sp.find_peaks(-sspeed)[0] # get the index array of local minima\n",
    "    local_maxima = sp.find_peaks(sspeed)[0] # get the index array of local maxima\n",
    "    if len(local_minima)>=2: #if there are 2 or more minima\n",
    "        p1 = 0 # surface\n",
    "        p2 = local_minima[0] #first minimum\n",
    "        if len(local_maxima)>=2: # if there are more than one maxima\n",
    "            p1 = local_maxima[0] #first maximum\n",
    "            p3 = local_maxima[1] #second maximum\n",
    "        else: #only one local maximum\n",
    "            p3 =  local_maxima[0] \n",
    "            if p3 < p2: # the only one maxima is higher in the water column than the minima\n",
    "                has_PSSC=0\n",
    "        print(\"p1 p2 p3 : \" +str(p1)+\" \"+str(p2)+\" \"+str(p3))\n",
    "        p1_sound_speed = sound_speed[p1]\n",
    "        p2_sound_speed = sound_speed[p2]\n",
    "        p3_sound_speed = sound_speed[p3]\n",
    "    \n",
    "        c1 = abs(p1_sound_speed-p2_sound_speed) \n",
    "        c2 = abs(p3_sound_speed-p2_sound_speed)\n",
    "        #print(\"c1 = \"+ str(c1) +\"m/s\")\n",
    "        #print(\"c2 = \"+ str(c2) +\"m/s\")\n",
    "    \n",
    "        if c1>5 and c2>5:\n",
    "            has_PSSC =1\n",
    "        else:\n",
    "            has_PSSC =0\n",
    "    else:\n",
    "        has_PSSC =0 \n",
    "    #print(local_minima)\n",
    "    #print(local_maxima)\n",
    "    return has_PSSC"
   ]
  },
  {
   "cell_type": "code",
   "execution_count": 369,
   "id": "unique-penny",
   "metadata": {},
   "outputs": [
    {
     "name": "stdout",
     "output_type": "stream",
     "text": [
      "p1 p2 p3 : 16 20 25\n"
     ]
    },
    {
     "data": {
      "text/plain": [
       "1"
      ]
     },
     "execution_count": 369,
     "metadata": {},
     "output_type": "execute_result"
    }
   ],
   "source": [
    "depth = profile['Depth (m)']\n",
    "sspeed = profile['Sound Speed']\n",
    "detect_potential_sub_surface_channel(depth, sspeed)"
   ]
  },
  {
   "cell_type": "markdown",
   "id": "homeless-force",
   "metadata": {},
   "source": [
    "## Next steps\n",
    "Test this code using some profiles from Navigator\n",
    "- ~~Refactor the code into a single method (what will be the inputs in that case?)~~\n",
    "- ~~Find 5 profiles that will have a sub-surface channel (will return 1)~~\n",
    "- ~~Find 5 profiles where sub-surface channel exists (will return 0)~~\n",
    "- Verify that this algorithm works\n"
   ]
  },
  {
   "cell_type": "code",
   "execution_count": null,
   "id": "fleet-attachment",
   "metadata": {},
   "outputs": [],
   "source": []
  }
 ],
 "metadata": {
  "kernelspec": {
   "display_name": "navigator_env",
   "language": "python",
   "name": "navigator"
  },
  "language_info": {
   "codemirror_mode": {
    "name": "ipython",
    "version": 3
   },
   "file_extension": ".py",
   "mimetype": "text/x-python",
   "name": "python",
   "nbconvert_exporter": "python",
   "pygments_lexer": "ipython3",
   "version": "3.6.8"
  }
 },
 "nbformat": 4,
 "nbformat_minor": 5
}
