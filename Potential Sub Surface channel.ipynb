{
 "cells": [
  {
   "cell_type": "code",
   "execution_count": 49,
   "id": "played-malaysia",
   "metadata": {},
   "outputs": [],
   "source": [
    "import matplotlib.pyplot as plt\n",
    "import numpy as np\n",
    "import seawater\n",
    "import xarray as xr\n",
    "import scipy.signal as sp\n",
    "import pandas as pd\n",
    "\n",
    "%matplotlib inline"
   ]
  },
  {
   "cell_type": "markdown",
   "id": "alpha-saint",
   "metadata": {},
   "source": [
    "# Potential sub-surface channel\n",
    "This notebook will contain the update as we step forward implementing the **Potential Sub-surface** acoustic variable.It is a boolean that indicates the potential existence of a sub-surface sound channel. \n",
    "\n",
    ">*A sub-surface sound channel can exist if there are two local minima in the sound speed profile above 1000 m.*\n",
    "\n",
    "### Importing a sample profile"
   ]
  },
  {
   "cell_type": "code",
   "execution_count": 179,
   "id": "decreased-integration",
   "metadata": {},
   "outputs": [],
   "source": [
    "#profile = pd.read_csv(\"sample-pssc-profiles/ts_giops_day_2021-01-22T16_45_30.510267.csv\", comment='/') \n",
    "profile = pd.read_csv(\"sample-pssc-profiles/ts_giops_day_2021-01-22T16_45_30.510267.csv\", header=2) "
   ]
  },
  {
   "cell_type": "code",
   "execution_count": 180,
   "id": "placed-bundle",
   "metadata": {},
   "outputs": [
    {
     "data": {
      "text/plain": [
       "Index(['Latitude', ' Longitude', 'Depth (m)', 'Pressure', 'Salinity',\n",
       "       'Temperature', 'Sound Speed'],\n",
       "      dtype='object')"
      ]
     },
     "execution_count": 180,
     "metadata": {},
     "output_type": "execute_result"
    }
   ],
   "source": [
    "profile.columns"
   ]
  },
  {
   "cell_type": "code",
   "execution_count": 181,
   "id": "paperback-nigeria",
   "metadata": {},
   "outputs": [
    {
     "data": {
      "text/html": [
       "<div>\n",
       "<style scoped>\n",
       "    .dataframe tbody tr th:only-of-type {\n",
       "        vertical-align: middle;\n",
       "    }\n",
       "\n",
       "    .dataframe tbody tr th {\n",
       "        vertical-align: top;\n",
       "    }\n",
       "\n",
       "    .dataframe thead th {\n",
       "        text-align: right;\n",
       "    }\n",
       "</style>\n",
       "<table border=\"1\" class=\"dataframe\">\n",
       "  <thead>\n",
       "    <tr style=\"text-align: right;\">\n",
       "      <th></th>\n",
       "      <th>Sound Speed</th>\n",
       "      <th>Depth (m)</th>\n",
       "    </tr>\n",
       "  </thead>\n",
       "  <tbody>\n",
       "    <tr>\n",
       "      <th>0</th>\n",
       "      <td>1448.4</td>\n",
       "      <td>0.5</td>\n",
       "    </tr>\n",
       "    <tr>\n",
       "      <th>1</th>\n",
       "      <td>1448.5</td>\n",
       "      <td>1.5</td>\n",
       "    </tr>\n",
       "    <tr>\n",
       "      <th>2</th>\n",
       "      <td>1448.5</td>\n",
       "      <td>2.6</td>\n",
       "    </tr>\n",
       "    <tr>\n",
       "      <th>3</th>\n",
       "      <td>1448.5</td>\n",
       "      <td>3.8</td>\n",
       "    </tr>\n",
       "    <tr>\n",
       "      <th>4</th>\n",
       "      <td>1448.5</td>\n",
       "      <td>5.1</td>\n",
       "    </tr>\n",
       "    <tr>\n",
       "      <th>5</th>\n",
       "      <td>1448.5</td>\n",
       "      <td>6.4</td>\n",
       "    </tr>\n",
       "    <tr>\n",
       "      <th>6</th>\n",
       "      <td>1448.6</td>\n",
       "      <td>7.9</td>\n",
       "    </tr>\n",
       "    <tr>\n",
       "      <th>7</th>\n",
       "      <td>1448.6</td>\n",
       "      <td>9.6</td>\n",
       "    </tr>\n",
       "    <tr>\n",
       "      <th>8</th>\n",
       "      <td>1448.6</td>\n",
       "      <td>11.4</td>\n",
       "    </tr>\n",
       "    <tr>\n",
       "      <th>9</th>\n",
       "      <td>1448.7</td>\n",
       "      <td>13.5</td>\n",
       "    </tr>\n",
       "    <tr>\n",
       "      <th>10</th>\n",
       "      <td>1448.7</td>\n",
       "      <td>15.8</td>\n",
       "    </tr>\n",
       "    <tr>\n",
       "      <th>11</th>\n",
       "      <td>1448.7</td>\n",
       "      <td>18.5</td>\n",
       "    </tr>\n",
       "    <tr>\n",
       "      <th>12</th>\n",
       "      <td>1448.8</td>\n",
       "      <td>21.6</td>\n",
       "    </tr>\n",
       "    <tr>\n",
       "      <th>13</th>\n",
       "      <td>1448.9</td>\n",
       "      <td>25.2</td>\n",
       "    </tr>\n",
       "    <tr>\n",
       "      <th>14</th>\n",
       "      <td>1449.0</td>\n",
       "      <td>29.4</td>\n",
       "    </tr>\n",
       "    <tr>\n",
       "      <th>15</th>\n",
       "      <td>1449.4</td>\n",
       "      <td>34.4</td>\n",
       "    </tr>\n",
       "    <tr>\n",
       "      <th>16</th>\n",
       "      <td>1454.7</td>\n",
       "      <td>40.3</td>\n",
       "    </tr>\n",
       "    <tr>\n",
       "      <th>17</th>\n",
       "      <td>1456.5</td>\n",
       "      <td>47.4</td>\n",
       "    </tr>\n",
       "    <tr>\n",
       "      <th>18</th>\n",
       "      <td>1455.3</td>\n",
       "      <td>55.8</td>\n",
       "    </tr>\n",
       "    <tr>\n",
       "      <th>19</th>\n",
       "      <td>1454.9</td>\n",
       "      <td>65.8</td>\n",
       "    </tr>\n",
       "    <tr>\n",
       "      <th>20</th>\n",
       "      <td>1454.9</td>\n",
       "      <td>77.9</td>\n",
       "    </tr>\n",
       "    <tr>\n",
       "      <th>21</th>\n",
       "      <td>1455.7</td>\n",
       "      <td>92.3</td>\n",
       "    </tr>\n",
       "    <tr>\n",
       "      <th>22</th>\n",
       "      <td>1457.8</td>\n",
       "      <td>109.7</td>\n",
       "    </tr>\n",
       "    <tr>\n",
       "      <th>23</th>\n",
       "      <td>1462.1</td>\n",
       "      <td>130.7</td>\n",
       "    </tr>\n",
       "    <tr>\n",
       "      <th>24</th>\n",
       "      <td>1468.3</td>\n",
       "      <td>155.9</td>\n",
       "    </tr>\n",
       "    <tr>\n",
       "      <th>25</th>\n",
       "      <td>1475.1</td>\n",
       "      <td>186.1</td>\n",
       "    </tr>\n",
       "    <tr>\n",
       "      <th>26</th>\n",
       "      <td>1480.3</td>\n",
       "      <td>222.5</td>\n",
       "    </tr>\n",
       "    <tr>\n",
       "      <th>27</th>\n",
       "      <td>1481.7</td>\n",
       "      <td>266.0</td>\n",
       "    </tr>\n",
       "    <tr>\n",
       "      <th>28</th>\n",
       "      <td>1481.4</td>\n",
       "      <td>318.1</td>\n",
       "    </tr>\n",
       "    <tr>\n",
       "      <th>29</th>\n",
       "      <td>1482.0</td>\n",
       "      <td>380.2</td>\n",
       "    </tr>\n",
       "  </tbody>\n",
       "</table>\n",
       "</div>"
      ],
      "text/plain": [
       "    Sound Speed  Depth (m)\n",
       "0        1448.4        0.5\n",
       "1        1448.5        1.5\n",
       "2        1448.5        2.6\n",
       "3        1448.5        3.8\n",
       "4        1448.5        5.1\n",
       "5        1448.5        6.4\n",
       "6        1448.6        7.9\n",
       "7        1448.6        9.6\n",
       "8        1448.6       11.4\n",
       "9        1448.7       13.5\n",
       "10       1448.7       15.8\n",
       "11       1448.7       18.5\n",
       "12       1448.8       21.6\n",
       "13       1448.9       25.2\n",
       "14       1449.0       29.4\n",
       "15       1449.4       34.4\n",
       "16       1454.7       40.3\n",
       "17       1456.5       47.4\n",
       "18       1455.3       55.8\n",
       "19       1454.9       65.8\n",
       "20       1454.9       77.9\n",
       "21       1455.7       92.3\n",
       "22       1457.8      109.7\n",
       "23       1462.1      130.7\n",
       "24       1468.3      155.9\n",
       "25       1475.1      186.1\n",
       "26       1480.3      222.5\n",
       "27       1481.7      266.0\n",
       "28       1481.4      318.1\n",
       "29       1482.0      380.2"
      ]
     },
     "execution_count": 181,
     "metadata": {},
     "output_type": "execute_result"
    }
   ],
   "source": [
    "profile_depth_sspeed = profile[['Sound Speed', 'Depth (m)']] # extracting only the soundspeed and depth column\n",
    "profile_depth_sspeed = profile_depth_sspeed[profile_depth_sspeed ['Depth (m)'] < 1000] #taking only the rows where depth < 1000\n",
    "profile_depth_sspeed\n"
   ]
  },
  {
   "cell_type": "code",
   "execution_count": 182,
   "id": "geographic-pilot",
   "metadata": {},
   "outputs": [
    {
     "data": {
      "text/plain": [
       "Text(0.5, 0, 'Speed of sound [m/s]')"
      ]
     },
     "execution_count": 182,
     "metadata": {},
     "output_type": "execute_result"
    },
    {
     "data": {
      "image/png": "[encoded data removed]",
      "text/plain": [
       "<Figure size 720x720 with 1 Axes>"
      ]
     },
     "metadata": {
      "needs_background": "light"
     },
     "output_type": "display_data"
    }
   ],
   "source": [
    "fig, ax = plt.subplots(1,1,figsize=(10,10))\n",
    "ax.plot(profile_depth_sspeed['Sound Speed'], profile_depth_sspeed['Depth (m)'])\n",
    "ax.grid(True)\n",
    "ax.set_ylim([500,0])\n",
    "ax.set_ylabel('Depth [m]')\n",
    "ax.set_xlabel('Speed of sound [m/s]')"
   ]
  },
  {
   "cell_type": "markdown",
   "id": "fifty-toronto",
   "metadata": {},
   "source": [
    "Using the *find_peaks()* function from *scipy.signal* to detect the localminima"
   ]
  },
  {
   "cell_type": "code",
   "execution_count": 183,
   "id": "optical-humanity",
   "metadata": {},
   "outputs": [],
   "source": [
    "profile_np = np.array(profile_depth_sspeed['Sound Speed'])\n",
    "local_minima = sp.find_peaks(-profile_np) # get the index array of local minima\n",
    "local_minima =local_minima[0]\n",
    "local_maxima = sp.find_peaks(profile_np) # get the index array of the local maxima\n",
    "local_maxima = local_maxima[0]"
   ]
  },
  {
   "cell_type": "markdown",
   "id": "elder-government",
   "metadata": {},
   "source": [
    "Plotting the returned minima and maxima on the sound speed profile plot."
   ]
  },
  {
   "cell_type": "code",
   "execution_count": 184,
   "id": "republican-basic",
   "metadata": {},
   "outputs": [
    {
     "data": {
      "text/plain": [
       "[<matplotlib.lines.Line2D at 0x7fcec515c5c0>]"
      ]
     },
     "execution_count": 184,
     "metadata": {},
     "output_type": "execute_result"
    },
    {
     "data": {
      "image/png": "[encoded data removed]",
      "text/plain": [
       "<Figure size 720x720 with 1 Axes>"
      ]
     },
     "metadata": {
      "needs_background": "light"
     },
     "output_type": "display_data"
    }
   ],
   "source": [
    "fig, ax = plt.subplots(1,1,figsize=(10,10))\n",
    "ax.plot(profile_depth_sspeed['Sound Speed'], profile_depth_sspeed['Depth (m)'])\n",
    "ax.grid(True)\n",
    "ax.set_ylim([500,0])\n",
    "ax.set_ylabel('Depth [m]')\n",
    "ax.set_xlabel('Speed of sound [m/s]')\n",
    "ax.plot(profile_depth_sspeed['Sound Speed'][local_minima],profile_depth_sspeed['Depth (m)'][local_minima],'r.',markersize=10)\n",
    "ax.plot(profile_depth_sspeed['Sound Speed'][local_maxima],profile_depth_sspeed['Depth (m)'][local_maxima],'m.',markersize=10)"
   ]
  },
  {
   "cell_type": "markdown",
   "id": "organic-greece",
   "metadata": {},
   "source": [
    "#### Checking if array *local_minima* has 2 or more minima\n",
    "    - If yes, The difference in sound speed between the local maxima and the first local minimum must be greater than 5 m/s.\n",
    "       \n",
    "       If two local minima exist but only one local maximum exists then\n",
    "   \n",
    "            - The difference in the speed of sound at the surface and the first local minimum is greater than 5 m/s and the difference between the speed of sound at the local minimum and     local maximum is greater than 5 m/s.\n",
    "\n",
    "Followed this file for reference.\n",
    "https://github.com/DFO-Ocean-Navigator/Ocean-Data-Map-Project/blob/master/data/calculated_parser/functions.py"
   ]
  },
  {
   "cell_type": "code",
   "execution_count": 185,
   "id": "alpha-cooperation",
   "metadata": {},
   "outputs": [
    {
     "name": "stdout",
     "output_type": "stream",
     "text": [
      "p1 p2 p3 : 17 19 27\n",
      "c1 = 1.599999999999909m/s\n",
      "c2 = 26.799999999999955m/s\n",
      "Value of Potential sub-surface channel :0\n"
     ]
    }
   ],
   "source": [
    "has_PSSC = 0\n",
    "# Need to \n",
    "sound_speed = profile_depth_sspeed['Sound Speed']\n",
    "depth = profile_depth_sspeed['Depth (m)']\n",
    "if len(local_minima)>=2: #if there are 2 or more minima\n",
    "    p1 = 0 # surface\n",
    "    p2 = local_minima[0] #first minimum\n",
    "    if len(local_maxima)>=2: # if there are more than one maxima\n",
    "        p1 = local_maxima[0] #first maximum\n",
    "        p3 = local_maxima[1] #second maximum\n",
    "    else: #only one local maximum\n",
    "        p3 =  local_maxima[0] \n",
    "        if p3 < p2: # the only one maxima is higher in the water column than the minima\n",
    "            has_PSSC=0\n",
    "    print(\"p1 p2 p3 : \" +str(p1)+\" \"+str(p2)+\" \"+str(p3))\n",
    "    p1_sound_speed = sound_speed[p1]\n",
    "    p2_sound_speed = sound_speed[p2]\n",
    "    p3_sound_speed = sound_speed[p3]\n",
    "    \n",
    "    c1 = abs(p1_sound_speed-p2_sound_speed) \n",
    "    c2 = abs(p3_sound_speed-p2_sound_speed)\n",
    "    print(\"c1 = \"+ str(c1) +\"m/s\")\n",
    "    print(\"c2 = \"+ str(c2) +\"m/s\")\n",
    "    \n",
    "    if c1>5 and c2>5:\n",
    "        has_PSSC =1\n",
    "    else:\n",
    "        has_PSSC =0\n",
    "else:\n",
    "    has_PSSC =0 \n",
    "\n",
    "print(\"Value of Potential sub-surface channel :\" + str(has_PSSC))"
   ]
  },
  {
   "cell_type": "markdown",
   "id": "accessible-excess",
   "metadata": {},
   "source": [
    "Displaying the c1 and c2 in the plot"
   ]
  },
  {
   "cell_type": "code",
   "execution_count": 186,
   "id": "further-contrast",
   "metadata": {},
   "outputs": [
    {
     "data": {
      "text/plain": [
       "[<matplotlib.lines.Line2D at 0x7fcec44d16a0>]"
      ]
     },
     "execution_count": 186,
     "metadata": {},
     "output_type": "execute_result"
    },
    {
     "data": {
      "image/png": "[encoded data removed]",
      "text/plain": [
       "<Figure size 720x720 with 1 Axes>"
      ]
     },
     "metadata": {
      "needs_background": "light"
     },
     "output_type": "display_data"
    }
   ],
   "source": [
    "fig, ax = plt.subplots(1,1,figsize=(10,10))\n",
    "ax.plot(sound_speed,depth)\n",
    "ax.grid(True)\n",
    "ax.set_ylim([500,0])\n",
    "ax.set_ylabel('Depth [m]')\n",
    "ax.set_xlabel('Speed of sound [m/s]')\n",
    "ax.plot(sound_speed[local_minima],depth[local_minima],'r.',markersize=10)\n",
    "ax.plot(sound_speed[local_maxima],depth[local_maxima],'m.',markersize=10)\n",
    "#plotting c1\n",
    "x_p1p2 = [sound_speed[i] for i in [p1,p2]]\n",
    "y_p1p2 = [depth[i] for i in [p2,p2]]\n",
    "ax.plot(x_p1p2, y_p1p2, 'y^--',label= \"c1\")\n",
    "#plotting c2\n",
    "x_p3p2 = [sound_speed[i] for i in [p3,p2]]\n",
    "y_p3p2 = [depth[i] for i in [p3,p3]]\n",
    "ax.plot(x_p3p2, y_p3p2, 'y^--',label= \"c2\")"
   ]
  },
  {
   "cell_type": "markdown",
   "id": "interracial-rolling",
   "metadata": {},
   "source": [
    "## Next steps\n",
    "Test this code using some profiles from Navigator\n",
    "- Find some other profile that will have a sub-surface channel (will return 1)\n",
    "- Find some profile where sub-surface channel exists (will return 0)\n",
    "- Verify that this algorithm works\n",
    "- Refactor the code into a single method (what will be the inputs in that case?)"
   ]
  },
  {
   "cell_type": "code",
   "execution_count": null,
   "id": "moving-stocks",
   "metadata": {},
   "outputs": [],
   "source": []
  }
 ],
 "metadata": {
  "kernelspec": {
   "display_name": "navigator_env",
   "language": "python",
   "name": "navigator"
  },
  "language_info": {
   "codemirror_mode": {
    "name": "ipython",
    "version": 3
   },
   "file_extension": ".py",
   "mimetype": "text/x-python",
   "name": "python",
   "nbconvert_exporter": "python",
   "pygments_lexer": "ipython3",
   "version": "3.6.8"
  }
 },
 "nbformat": 4,
 "nbformat_minor": 5
}
