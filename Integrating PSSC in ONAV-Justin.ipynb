{
 "cells": [
  {
   "cell_type": "code",
   "execution_count": null,
   "id": "asian-milwaukee",
   "metadata": {},
   "outputs": [],
   "source": [
    "import matplotlib.pyplot as plt\n",
    "import numpy as np\n",
    "import seawater\n",
    "import xarray as xr\n",
    "import scipy.signal as sp\n",
    "import pandas as pd\n",
    "import math\n",
    "import sys\n",
    "import time\n",
    "\n",
    "\n",
    "np.set_printoptions(threshold=50)\n",
    "\n",
    "%matplotlib inline"
   ]
  },
  {
   "cell_type": "markdown",
   "id": "visible-shopping",
   "metadata": {},
   "source": [
    "## Integrate PSSC in ONAV\n",
    "This notebook contains the update as we move forward integrating Potential Sub-Surface channel variable in Navigator following option 3 (A fixed frequency cutoff value) \n",
    "### Importing the sample profile"
   ]
  },
  {
   "cell_type": "code",
   "execution_count": null,
   "id": "employed-payday",
   "metadata": {},
   "outputs": [],
   "source": [
    "profile = pd.read_csv(\"sample-pssc-profiles/ts_giops_day_2021-01-22T17_20_15.578175_POSITIVE.csv\", header=2)\n",
    "profile.columns"
   ]
  },
  {
   "cell_type": "code",
   "execution_count": null,
   "id": "blind-gambling",
   "metadata": {},
   "outputs": [],
   "source": [
    "depth = profile['Depth (m)']\n",
    "Profile_sspeed = profile['Sound Speed']\n",
    "temperature = profile ['Temperature']\n",
    "salinity = profile ['Salinity']\n",
    "latitude = profile['Latitude']\n",
    "fig, ax = plt.subplots(1,1,figsize=(10,10))\n",
    "ax.plot(profile['Sound Speed'], profile['Depth (m)'])\n",
    "ax.grid(True)\n",
    "ax.set_ylim([1000,0])\n",
    "ax.set_ylabel('Depth [m]')\n",
    "ax.set_xlabel('Speed of sound [m/s]')"
   ]
  },
  {
   "cell_type": "markdown",
   "id": "loose-portfolio",
   "metadata": {},
   "source": [
    "### Bringing in functions from Navigator\n",
    "These functions below are from Ocean-Data-Map-Project/data/calculated_parser/functions.py\n",
    "\n",
    "https://github.com/DFO-Ocean-Navigator/Ocean-Data-Map-Project/blob/master/data/calculated_parser/functions.py"
   ]
  },
  {
   "cell_type": "code",
   "execution_count": null,
   "id": "velvet-georgia",
   "metadata": {},
   "outputs": [],
   "source": [
    "def __calc_pressure(depth, latitude):\n",
    "    pressure = []\n",
    "    try:\n",
    "        pressure = [seawater.pres(d, latitude) for d in depth]\n",
    "    except TypeError:\n",
    "        pressure = seawater.pres(depth, latitude)\n",
    "\n",
    "    return np.array(pressure)\n",
    "\n",
    "def __validate_depth_lat_temp_sal(depth, latitude, temperature, salinity):\n",
    "\n",
    "    if type(depth) is not np.ndarray:\n",
    "        depth = np.array(depth)\n",
    "\n",
    "    if type(latitude) is not np.ndarray:\n",
    "        latitude = np.array(latitude)\n",
    "\n",
    "    if type(temperature) is not np.ndarray:\n",
    "        temperature = np.array(temperature)\n",
    "\n",
    "    if type(salinity) is not np.ndarray:\n",
    "        salinity = np.array(salinity)\n",
    "\n",
    "    return depth, latitude, np.squeeze(temperature), np.squeeze(salinity)\n",
    "\n",
    "def sspeed(depth, latitude, temperature, salinity):\n",
    "    \"\"\"\n",
    "    Calculates the speed of sound.\n",
    "    Required Arguments:\n",
    "    * depth: The depth(s) in meters\n",
    "    * latitude: The latitude(s) in degrees North\n",
    "    * temperature: The temperatures(s) in Celsius\n",
    "    * salinity: The salinity (unitless)\n",
    "    \"\"\"\n",
    "\n",
    "    depth, latitude, temperature, salinity = __validate_depth_lat_temp_sal(\n",
    "        depth, latitude, temperature, salinity)\n",
    "\n",
    "    press = __calc_pressure(depth, latitude)\n",
    "\n",
    "    if salinity.shape != press.shape:\n",
    "        # pad array shape to match otherwise seawater freaks out\n",
    "        press = press[..., np.newaxis]\n",
    "\n",
    "    speed = seawater.svel(salinity, temperature, press)\n",
    "    return np.squeeze(speed)"
   ]
  },
  {
   "cell_type": "code",
   "execution_count": null,
   "id": "acceptable-density",
   "metadata": {},
   "outputs": [],
   "source": [
    "calculated_sspeed = sspeed(depth, latitude, temperature, salinity)\n",
    "#calc_speed.shape"
   ]
  },
  {
   "cell_type": "markdown",
   "id": "responsible-stupid",
   "metadata": {},
   "source": [
    "### The functions to detect sub-surface channel (Single point calculation)"
   ]
  },
  {
   "cell_type": "code",
   "execution_count": null,
   "id": "possible-complexity",
   "metadata": {},
   "outputs": [],
   "source": [
    "def calculate_del_C(depth,latitude,temperature, salinity, freq_cutoff):\n",
    "    \"\"\"\n",
    "     Calculate ΔC from a given sound profile and freq cutoff\n",
    "     Required Arguments:\n",
    "        * depth: The depth(s) in meters\n",
    "        * latitude: The latitude(s) in degrees North\n",
    "        * temperature: The temperatures(s) in Celsius\n",
    "        * salinity: The salinity (unitless)\n",
    "        * freq_cutoff: Desired frequency cutoff in Hz\n",
    "     Returns the value of ΔC, which will later be used inside the \n",
    "    \"\"\"\n",
    "    depth, latitude, temperature, salinity = __validate_depth_lat_temp_sal(depth, latitude, temperature, salinity)\n",
    "    \n",
    "    soundspeed = sspeed(depth, latitude, temperature, salinity);\n",
    "    print(soundspeed.shape)\n",
    "    # Getting Cmin from the sound speed profile\n",
    "    first_local_minimum = sp.find_peaks(-soundspeed)[0][0]\n",
    "    Cmin = soundspeed[first_local_minimum]\n",
    "    #Calculating del_Z\n",
    "    local_maximum = sp.find_peaks(soundspeed)[0][0]\n",
    "    channel_start_depth = depth[local_maximum]\n",
    "    channel_end_depth = np.interp(soundspeed[local_maximum], soundspeed, depth) \n",
    "    del_Z = channel_end_depth - channel_start_depth\n",
    "    # print(channel_start_depth)\n",
    "    # Final calculation of delC\n",
    "    numerator = freq_cutoff * del_Z\n",
    "    denominator = 0.2652 * Cmin\n",
    "    final_denom = numerator/denominator\n",
    "    final_denom =np.power(final_denom,2)\n",
    "    delC = float(Cmin/final_denom)\n",
    "    return delC\n",
    "\n",
    "#calculate_del_C(depth,latitude, temperature, salinity, 2755.03);"
   ]
  },
  {
   "cell_type": "code",
   "execution_count": null,
   "id": "monthly-lover",
   "metadata": {},
   "outputs": [],
   "source": [
    "\"\"\"\n",
    "     Detect if there is sub-surface channel. \n",
    "     Required Arguments:\n",
    "        * depth: Depth in meters\n",
    "        * sspeed: Sound speed in m/s\n",
    "     Returns 1 if the profile has a sub-surface channel, 0 if the profile does not have a sub-surface channel\n",
    "\"\"\"\n",
    "def detect_potential_sub_surface_channel_v3(depth, latitude,temperature, salinity, freq_cutoff = 2755.03 )-> bool:\n",
    "    has_PSSC = 0\n",
    "    del_C = calculate_del_C(depth,latitude,temperature, salinity, freq_cutoff)\n",
    "    # Trimming the profile considering the depth above 1000m\n",
    "    depth = depth[depth<1000]\n",
    "    sspeed = sspeed[0:(len(depth))]\n",
    "    # detecting the local minima and local maxima for the sound speed profile\n",
    "    local_minima = sp.find_peaks(-sspeed)[0] # get the index array of local minima\n",
    "    local_maxima = sp.find_peaks(sspeed)[0] # get the index array of local maxima\n",
    "    if len(local_minima)>=2: #if there are 2 or more minima\n",
    "        p1 = 0 # surface\n",
    "        p2 = local_minima[0] #first minimum\n",
    "        if len(local_maxima)>=2: # if there are more than one maxima\n",
    "            p1 = local_maxima[0] #first maximum\n",
    "            p3 = local_maxima[1] #second maximum\n",
    "        else: #only one local maximum\n",
    "            p3 =  local_maxima[0] \n",
    "            if p3 < p2: # the only one maxima is higher in the water column than the minima\n",
    "                has_PSSC=0\n",
    "        # print(\"p1 p2 p3 : \" +str(p1)+\" \"+str(p2)+\" \"+str(p3))\n",
    "        p1_sound_speed = sound_speed[p1]\n",
    "        p2_sound_speed = sound_speed[p2]\n",
    "        p3_sound_speed = sound_speed[p3]\n",
    "    \n",
    "        c1 = abs(p1_sound_speed-p2_sound_speed) \n",
    "        c2 = abs(p3_sound_speed-p2_sound_speed)\n",
    "        #print(\"c1 = \"+ str(c1) +\"m/s\")\n",
    "        #print(\"c2 = \"+ str(c2) +\"m/s\")\n",
    "    \n",
    "        if c1> del_C and c2> del_C: # Changing this comparison to check with the calculated ΔC\n",
    "            has_PSSC =1\n",
    "        else:\n",
    "            has_PSSC =0\n",
    "    else:\n",
    "        has_PSSC =0 \n",
    "    #print(local_minima)\n",
    "    #print(local_maxima)\n",
    "    return has_PSSC"
   ]
  },
  {
   "cell_type": "markdown",
   "id": "bigger-encyclopedia",
   "metadata": {},
   "source": [
    "### Transforming the function for inputs from NetCDF file"
   ]
  },
  {
   "cell_type": "code",
   "execution_count": null,
   "id": "federal-florida",
   "metadata": {},
   "outputs": [],
   "source": [
    "d = xr.open_dataset('data/2019100100_000_3D_ps5km60N.nc')\n",
    "d"
   ]
  },
  {
   "cell_type": "code",
   "execution_count": null,
   "id": "regulated-buddy",
   "metadata": {},
   "outputs": [],
   "source": [
    "depth = d.depth.values\n",
    "temp = d.votemper.values\n",
    "sal = d.vosaline.values\n",
    "lat = d.latitude.values"
   ]
  },
  {
   "cell_type": "code",
   "execution_count": null,
   "id": "statewide-dimension",
   "metadata": {},
   "outputs": [],
   "source": [
    "depth2 = depth[depth<1000]\n",
    "depth2.shape\n",
    "temp = temp-273.15\n"
   ]
  },
  {
   "cell_type": "code",
   "execution_count": null,
   "id": "becoming-acoustic",
   "metadata": {},
   "outputs": [],
   "source": [
    "temp2 = temp[:,0:len(depth2),:,:]\n",
    "print(temp2.shape)\n",
    "sal2 =  sal[:,0:len(depth2),:,:]\n",
    "print(sal2.shape)"
   ]
  },
  {
   "cell_type": "code",
   "execution_count": null,
   "id": "raising-husband",
   "metadata": {},
   "outputs": [],
   "source": [
    "#sound_speed = np.ma.array(sspeed(depth2, lat, temp2, sal2), fill_value=np.nan)\n",
    "sound_speed = sspeed(depth2, lat, temp2, sal2)\n",
    "#sound_speed"
   ]
  },
  {
   "cell_type": "code",
   "execution_count": 13,
   "id": "quantitative-uniform",
   "metadata": {},
   "outputs": [
    {
     "data": {
      "text/plain": [
       "(46, 1610, 1770)"
      ]
     },
     "execution_count": 13,
     "metadata": {},
     "output_type": "execute_result"
    }
   ],
   "source": [
    "sound_speed.shape"
   ]
  },
  {
   "cell_type": "code",
   "execution_count": 14,
   "id": "considerable-proceeding",
   "metadata": {},
   "outputs": [
    {
     "name": "stdout",
     "output_type": "stream",
     "text": [
      "41.3229660987854\n"
     ]
    },
    {
     "data": {
      "text/plain": [
       "(2, 1610, 1770)"
      ]
     },
     "execution_count": 14,
     "metadata": {},
     "output_type": "execute_result"
    }
   ],
   "source": [
    "start = time.time()\n",
    "sound_speed.shape\n",
    "minima = np.apply_along_axis(sp.find_peaks,0,-sound_speed)\n",
    "end = time.time()\n",
    "print(end-start)\n",
    "minima.shape"
   ]
  },
  {
   "cell_type": "markdown",
   "id": "excellent-convertible",
   "metadata": {},
   "source": [
    "__need to check it for an expected size of soundspeed__ "
   ]
  },
  {
   "cell_type": "code",
   "execution_count": 15,
   "id": "encouraging-amsterdam",
   "metadata": {},
   "outputs": [
    {
     "data": {
      "text/plain": [
       "(46, 86, 126)"
      ]
     },
     "execution_count": 15,
     "metadata": {},
     "output_type": "execute_result"
    }
   ],
   "source": [
    "sound_speed_sliced = sound_speed[:,200:286,-126:]\n",
    "sound_speed_sliced.shape"
   ]
  },
  {
   "cell_type": "code",
   "execution_count": 16,
   "id": "according-waterproof",
   "metadata": {},
   "outputs": [
    {
     "name": "stdout",
     "output_type": "stream",
     "text": [
      "0.18620777130126953\n"
     ]
    },
    {
     "data": {
      "text/plain": [
       "array([[array([33]), array([33]), array([32]), ...,\n",
       "        array([], dtype=int64), array([], dtype=int64), array([10, 29])],\n",
       "       [array([33]), array([33]), array([33]), ...,\n",
       "        array([], dtype=int64), array([29]), array([28])],\n",
       "       [array([33]), array([33]), array([33]), ..., array([28]),\n",
       "        array([27]), array([26])],\n",
       "       ...,\n",
       "       [array([], dtype=int64), array([], dtype=int64),\n",
       "        array([], dtype=int64), ..., array([], dtype=int64), array([15]),\n",
       "        array([], dtype=int64)],\n",
       "       [array([], dtype=int64), array([], dtype=int64),\n",
       "        array([], dtype=int64), ..., array([], dtype=int64),\n",
       "        array([], dtype=int64), array([], dtype=int64)],\n",
       "       [array([], dtype=int64), array([], dtype=int64),\n",
       "        array([], dtype=int64), ..., array([], dtype=int64),\n",
       "        array([], dtype=int64), array([], dtype=int64)]], dtype=object)"
      ]
     },
     "execution_count": 16,
     "metadata": {},
     "output_type": "execute_result"
    }
   ],
   "source": [
    "start = time.time()\n",
    "minima_alt = np.apply_along_axis(sp.find_peaks,0,-sound_speed_sliced)\n",
    "end = time.time()\n",
    "print(end-start)\n",
    "minima_alt = minima_alt[0]\n",
    "minima_alt\n"
   ]
  },
  {
   "cell_type": "code",
   "execution_count": 17,
   "id": "comic-cartridge",
   "metadata": {},
   "outputs": [
    {
     "name": "stdout",
     "output_type": "stream",
     "text": [
      "0.019616127014160156\n"
     ]
    },
    {
     "data": {
      "text/plain": [
       "array([[33, 33, 32, ..., -1, -1, 10],\n",
       "       [33, 33, 33, ..., -1, 29, 28],\n",
       "       [33, 33, 33, ..., 28, 27, 26],\n",
       "       ...,\n",
       "       [-1, -1, -1, ..., -1, 15, -1],\n",
       "       [-1, -1, -1, ..., -1, -1, -1],\n",
       "       [-1, -1, -1, ..., -1, -1, -1]], dtype=object)"
      ]
     },
     "execution_count": 17,
     "metadata": {},
     "output_type": "execute_result"
    }
   ],
   "source": [
    "first_minimum = np.empty_like(minima_alt, dtype='int64')\n",
    "first_minimum = minima_alt\n",
    "start = time.time()\n",
    "it = np.nditer(minima_alt,flags=['refs_ok','multi_index'])\n",
    "for x in it:\n",
    "    minima_size = x.tolist().size\n",
    "    first_minimum[it.multi_index]= x.tolist()[0] if minima_size>0 else -1\n",
    "end = time.time()\n",
    "print(end-start)\n",
    "first_minimum"
   ]
  },
  {
   "cell_type": "code",
   "execution_count": 18,
   "id": "hollywood-official",
   "metadata": {},
   "outputs": [
    {
     "data": {
      "text/plain": [
       "(2, 86, 126)"
      ]
     },
     "execution_count": 18,
     "metadata": {},
     "output_type": "execute_result"
    }
   ],
   "source": [
    "maxima_alt =  np.apply_along_axis(sp.find_peaks,0,sound_speed_sliced)\n",
    "maxima_alt.shape"
   ]
  },
  {
   "cell_type": "code",
   "execution_count": 19,
   "id": "optimum-worse",
   "metadata": {},
   "outputs": [
    {
     "data": {
      "text/plain": [
       "(1610, 1770)"
      ]
     },
     "execution_count": 19,
     "metadata": {},
     "output_type": "execute_result"
    }
   ],
   "source": [
    "minima[0,:,:].shape"
   ]
  },
  {
   "cell_type": "code",
   "execution_count": 20,
   "id": "clinical-narrative",
   "metadata": {},
   "outputs": [
    {
     "data": {
      "text/plain": [
       "(array([ 9,  9, 10, ..., 44, 44, 44]),\n",
       " array([ 0,  0,  0, ..., 47, 48, 48]),\n",
       " array([109, 112, 125, ...,  68,  65,  66]))"
      ]
     },
     "execution_count": 20,
     "metadata": {},
     "output_type": "execute_result"
    }
   ],
   "source": [
    "minima2 = sp.argrelmin(sound_speed_sliced, axis= 0)\n",
    "#minima2 = np.apply_along_axis(sp.argrelmin,1,-sound_speed)\n",
    "minima2"
   ]
  },
  {
   "cell_type": "code",
   "execution_count": 21,
   "id": "specified-rachel",
   "metadata": {},
   "outputs": [
    {
     "data": {
      "text/plain": [
       "(4761,)"
      ]
     },
     "execution_count": 21,
     "metadata": {},
     "output_type": "execute_result"
    }
   ],
   "source": [
    "minima2[0].shape"
   ]
  },
  {
   "cell_type": "code",
   "execution_count": 22,
   "id": "overall-compact",
   "metadata": {},
   "outputs": [],
   "source": [
    "#def calculate_del_C(depth, soundspeed, freq_cutoff):\n",
    "def calculate_del_C(depth,soundspeed,minima,maxima, freq_cutoff):\n",
    "    \"\"\"\n",
    "     Calculate ΔC from a given sound profile and freq cutoff\n",
    "     Required Arguments:\n",
    "        * depth: The depth(s) in meters\n",
    "        * soundspeed: Speed of sound in m/s\n",
    "        * minima: Minima ndarray of Speed of sound, which contains the index where the minima occurs\n",
    "        * maxima: Maxima ndarray of Speed of sound,  which contains the index where the maxima occurs\n",
    "        * freq_cutoff: Desired frequency cutoff in Hz\n",
    "     Returns the value of ΔC, which will later be used inside the PSSC detection method\n",
    "    \"\"\"\n",
    "    # Getting Cmin from the sound speed profile\n",
    "    print(soundspeed.shape)\n",
    "    #print(maxima.shape)\n",
    "    first_minimum = np.empty_like(minima_alt, dtype='int64')\n",
    "    it = np.nditer(minima,flags=['refs_ok','multi_index'])\n",
    "    # need to look at alternative for this\n",
    "    for x in it:\n",
    "        minima_size = x.tolist().size\n",
    "        first_minimum[it.multi_index]= x.tolist()[0] if minima_size>0 else -1\n",
    "    print(first_minimum.shape)\n",
    "    Cmin = soundspeed[first_minimum]\n",
    "    #print(Cmin)\n",
    "    ################\n",
    "    Cmin = np.take_along_axis(soundspeed,first_minimum,axis=0)\n",
    "    print(Cmin.shape)\n",
    "    #Calculating del_Z\n",
    "    local_maximum = sp.find_peaks(soundspeed)[0][0]\n",
    "    channel_start_depth = depth[local_maximum]\n",
    "    channel_end_depth = np.interp(soundspeed[local_maximum], soundspeed, depth) \n",
    "    del_Z = channel_end_depth - channel_start_depth\n",
    "    # print(channel_start_depth)\n",
    "    # Final calculation of delC\n",
    "    numerator = freq_cutoff * del_Z\n",
    "    denominator = 0.2652 * Cmin\n",
    "    final_denom = numerator/denominator\n",
    "    final_denom =np.power(final_denom,2)\n",
    "    delC = float(Cmin/final_denom)\n",
    "    return delC\n",
    "\n",
    "#def potentialsubsurfacechannel(depth, latitude,temperature, salinity, freq_cutoff = 2755.03 )-> bool:\n",
    "def potentialsubsurfacechannel(depth, sound_speed, freq_cutoff = 2755.03 )-> bool:   \n",
    "    \"\"\"\n",
    "     Detect if there is sub-surface channel. \n",
    "     Required Arguments:\n",
    "        * depth: Depth in meters\n",
    "        * latitude: Latitude in degrees North\n",
    "        * temperature: Temperatures in Celsius\n",
    "        * salinity: Salinity\n",
    "     Returns 1 if the profile has a sub-surface channel, 0 if the profile does not have a sub-surface channel\n",
    "    \"\"\"\n",
    "    #print(depth)\n",
    "    has_PSSC = 0\n",
    "    # Trimming the profile considering the depth above 1000m\n",
    "    #depth = depth[depth<1000]\n",
    "    depth.shape[0]\n",
    "    #temp = temperature[:,0:len(depth),:,:]\n",
    "    #sal =  salinity[:,0:len(depth),:,:]\n",
    "    #sound_speed = np.ma.array(sspeed(depth, latitude, temp, sal), fill_value=np.nan)\n",
    "    minima = np.apply_along_axis(sp.find_peaks,0,-sound_speed)[0] # selecting the first item of the tuple\n",
    "    maxima = np.apply_along_axis(sp.find_peaks,0, sound_speed)[0]\n",
    "    del_C = calculate_del_C(depth,sound_speed,minima,maxima, freq_cutoff)\n",
    "    \n",
    "    \n",
    "    #########\n",
    "    \n",
    "    sound_speed = sound_speed[0:(len(depth))]\n",
    "    \n",
    "    \n",
    "    # detecting the local minima and local maxima for the sound speed profile\n",
    "    local_minima = sp.find_peaks(-sound_speed)[0] # get the index array of local minima\n",
    "    local_maxima = sp.find_peaks(sound_speed)[0] # get the index array of local maxima\n",
    "    \n",
    "    \n",
    "    \n",
    "    if len(local_minima)>=2: #if there are 2 or more minima\n",
    "        p1 = 0 # surface\n",
    "        p2 = local_minima[0] #first minimum\n",
    "        if len(local_maxima)>=2: # if there are more than one maxima\n",
    "            p1 = local_maxima[0] #first maximum\n",
    "            p3 = local_maxima[1] #second maximum\n",
    "        else: #only one local maximum\n",
    "            p3 =  local_maxima[0] \n",
    "            if p3 < p2: # the only one maxima is higher in the water column than the minima\n",
    "                has_PSSC=0\n",
    "        # print(\"p1 p2 p3 : \" +str(p1)+\" \"+str(p2)+\" \"+str(p3))\n",
    "        p1_sound_speed = sound_speed[p1]\n",
    "        p2_sound_speed = sound_speed[p2]\n",
    "        p3_sound_speed = sound_speed[p3]\n",
    "    \n",
    "        c1 = abs(p1_sound_speed-p2_sound_speed) \n",
    "        c2 = abs(p3_sound_speed-p2_sound_speed)\n",
    "        #print(\"c1 = \"+ str(c1) +\"m/s\")\n",
    "        #print(\"c2 = \"+ str(c2) +\"m/s\")\n",
    "    \n",
    "        if c1> del_C and c2> del_C: # Changing this comparison to check with the calculated ΔC\n",
    "            has_PSSC =1\n",
    "        else:\n",
    "            has_PSSC =0\n",
    "    else:\n",
    "        has_PSSC =0 \n",
    "    #print(local_minima)\n",
    "    #print(local_maxima)\n",
    "    return has_PSSC\n"
   ]
  },
  {
   "cell_type": "code",
   "execution_count": 23,
   "id": "personal-compromise",
   "metadata": {},
   "outputs": [
    {
     "name": "stdout",
     "output_type": "stream",
     "text": [
      "(46, 86, 126)\n",
      "(86, 126)\n"
     ]
    },
    {
     "ename": "ValueError",
     "evalue": "`indices` and `arr` must have the same number of dimensions",
     "output_type": "error",
     "traceback": [
      "\u001b[0;31m---------------------------------------------------------------------------\u001b[0m",
      "\u001b[0;31mValueError\u001b[0m                                Traceback (most recent call last)",
      "\u001b[0;32m<ipython-input-23-7ceff6d61505>\u001b[0m in \u001b[0;36m<module>\u001b[0;34m\u001b[0m\n\u001b[0;32m----> 1\u001b[0;31m \u001b[0mpotentialsubsurfacechannel\u001b[0m\u001b[0;34m(\u001b[0m\u001b[0mdepth\u001b[0m\u001b[0;34m,\u001b[0m \u001b[0msound_speed_sliced\u001b[0m\u001b[0;34m,\u001b[0m \u001b[0;36m2755.03\u001b[0m\u001b[0;34m)\u001b[0m\u001b[0;34m\u001b[0m\u001b[0;34m\u001b[0m\u001b[0m\n\u001b[0m",
      "\u001b[0;32m<ipython-input-22-e5db9d4bf887>\u001b[0m in \u001b[0;36mpotentialsubsurfacechannel\u001b[0;34m(depth, sound_speed, freq_cutoff)\u001b[0m\n\u001b[1;32m     61\u001b[0m     \u001b[0mminima\u001b[0m \u001b[0;34m=\u001b[0m \u001b[0mnp\u001b[0m\u001b[0;34m.\u001b[0m\u001b[0mapply_along_axis\u001b[0m\u001b[0;34m(\u001b[0m\u001b[0msp\u001b[0m\u001b[0;34m.\u001b[0m\u001b[0mfind_peaks\u001b[0m\u001b[0;34m,\u001b[0m\u001b[0;36m0\u001b[0m\u001b[0;34m,\u001b[0m\u001b[0;34m-\u001b[0m\u001b[0msound_speed\u001b[0m\u001b[0;34m)\u001b[0m\u001b[0;34m[\u001b[0m\u001b[0;36m0\u001b[0m\u001b[0;34m]\u001b[0m \u001b[0;31m# selecting the first item of the tuple\u001b[0m\u001b[0;34m\u001b[0m\u001b[0;34m\u001b[0m\u001b[0m\n\u001b[1;32m     62\u001b[0m     \u001b[0mmaxima\u001b[0m \u001b[0;34m=\u001b[0m \u001b[0mnp\u001b[0m\u001b[0;34m.\u001b[0m\u001b[0mapply_along_axis\u001b[0m\u001b[0;34m(\u001b[0m\u001b[0msp\u001b[0m\u001b[0;34m.\u001b[0m\u001b[0mfind_peaks\u001b[0m\u001b[0;34m,\u001b[0m\u001b[0;36m0\u001b[0m\u001b[0;34m,\u001b[0m \u001b[0msound_speed\u001b[0m\u001b[0;34m)\u001b[0m\u001b[0;34m[\u001b[0m\u001b[0;36m0\u001b[0m\u001b[0;34m]\u001b[0m\u001b[0;34m\u001b[0m\u001b[0;34m\u001b[0m\u001b[0m\n\u001b[0;32m---> 63\u001b[0;31m     \u001b[0mdel_C\u001b[0m \u001b[0;34m=\u001b[0m \u001b[0mcalculate_del_C\u001b[0m\u001b[0;34m(\u001b[0m\u001b[0mdepth\u001b[0m\u001b[0;34m,\u001b[0m\u001b[0msound_speed\u001b[0m\u001b[0;34m,\u001b[0m\u001b[0mminima\u001b[0m\u001b[0;34m,\u001b[0m\u001b[0mmaxima\u001b[0m\u001b[0;34m,\u001b[0m \u001b[0mfreq_cutoff\u001b[0m\u001b[0;34m)\u001b[0m\u001b[0;34m\u001b[0m\u001b[0;34m\u001b[0m\u001b[0m\n\u001b[0m\u001b[1;32m     64\u001b[0m \u001b[0;34m\u001b[0m\u001b[0m\n\u001b[1;32m     65\u001b[0m \u001b[0;34m\u001b[0m\u001b[0m\n",
      "\u001b[0;32m<ipython-input-22-e5db9d4bf887>\u001b[0m in \u001b[0;36mcalculate_del_C\u001b[0;34m(depth, soundspeed, minima, maxima, freq_cutoff)\u001b[0m\n\u001b[1;32m     24\u001b[0m     \u001b[0;31m#print(Cmin)\u001b[0m\u001b[0;34m\u001b[0m\u001b[0;34m\u001b[0m\u001b[0;34m\u001b[0m\u001b[0m\n\u001b[1;32m     25\u001b[0m     \u001b[0;31m################\u001b[0m\u001b[0;34m\u001b[0m\u001b[0;34m\u001b[0m\u001b[0;34m\u001b[0m\u001b[0m\n\u001b[0;32m---> 26\u001b[0;31m     \u001b[0mCmin\u001b[0m \u001b[0;34m=\u001b[0m \u001b[0mnp\u001b[0m\u001b[0;34m.\u001b[0m\u001b[0mtake_along_axis\u001b[0m\u001b[0;34m(\u001b[0m\u001b[0msoundspeed\u001b[0m\u001b[0;34m,\u001b[0m\u001b[0mfirst_minimum\u001b[0m\u001b[0;34m,\u001b[0m\u001b[0maxis\u001b[0m\u001b[0;34m=\u001b[0m\u001b[0;36m0\u001b[0m\u001b[0;34m)\u001b[0m\u001b[0;34m\u001b[0m\u001b[0;34m\u001b[0m\u001b[0m\n\u001b[0m\u001b[1;32m     27\u001b[0m     \u001b[0mprint\u001b[0m\u001b[0;34m(\u001b[0m\u001b[0mCmin\u001b[0m\u001b[0;34m.\u001b[0m\u001b[0mshape\u001b[0m\u001b[0;34m)\u001b[0m\u001b[0;34m\u001b[0m\u001b[0;34m\u001b[0m\u001b[0m\n\u001b[1;32m     28\u001b[0m     \u001b[0;31m#Calculating del_Z\u001b[0m\u001b[0;34m\u001b[0m\u001b[0;34m\u001b[0m\u001b[0;34m\u001b[0m\u001b[0m\n",
      "\u001b[0;32m~/.conda/envs/navigator/lib/python3.6/site-packages/numpy/lib/shape_base.py\u001b[0m in \u001b[0;36mtake_along_axis\u001b[0;34m(arr, indices, axis)\u001b[0m\n\u001b[1;32m    171\u001b[0m \u001b[0;34m\u001b[0m\u001b[0m\n\u001b[1;32m    172\u001b[0m     \u001b[0;31m# use the fancy index\u001b[0m\u001b[0;34m\u001b[0m\u001b[0;34m\u001b[0m\u001b[0;34m\u001b[0m\u001b[0m\n\u001b[0;32m--> 173\u001b[0;31m     \u001b[0;32mreturn\u001b[0m \u001b[0marr\u001b[0m\u001b[0;34m[\u001b[0m\u001b[0m_make_along_axis_idx\u001b[0m\u001b[0;34m(\u001b[0m\u001b[0marr_shape\u001b[0m\u001b[0;34m,\u001b[0m \u001b[0mindices\u001b[0m\u001b[0;34m,\u001b[0m \u001b[0maxis\u001b[0m\u001b[0;34m)\u001b[0m\u001b[0;34m]\u001b[0m\u001b[0;34m\u001b[0m\u001b[0;34m\u001b[0m\u001b[0m\n\u001b[0m\u001b[1;32m    174\u001b[0m \u001b[0;34m\u001b[0m\u001b[0m\n\u001b[1;32m    175\u001b[0m \u001b[0;34m\u001b[0m\u001b[0m\n",
      "\u001b[0;32m~/.conda/envs/navigator/lib/python3.6/site-packages/numpy/lib/shape_base.py\u001b[0m in \u001b[0;36m_make_along_axis_idx\u001b[0;34m(arr_shape, indices, axis)\u001b[0m\n\u001b[1;32m     36\u001b[0m     \u001b[0;32mif\u001b[0m \u001b[0mlen\u001b[0m\u001b[0;34m(\u001b[0m\u001b[0marr_shape\u001b[0m\u001b[0;34m)\u001b[0m \u001b[0;34m!=\u001b[0m \u001b[0mindices\u001b[0m\u001b[0;34m.\u001b[0m\u001b[0mndim\u001b[0m\u001b[0;34m:\u001b[0m\u001b[0;34m\u001b[0m\u001b[0;34m\u001b[0m\u001b[0m\n\u001b[1;32m     37\u001b[0m         raise ValueError(\n\u001b[0;32m---> 38\u001b[0;31m             \"`indices` and `arr` must have the same number of dimensions\")\n\u001b[0m\u001b[1;32m     39\u001b[0m     \u001b[0mshape_ones\u001b[0m \u001b[0;34m=\u001b[0m \u001b[0;34m(\u001b[0m\u001b[0;36m1\u001b[0m\u001b[0;34m,\u001b[0m\u001b[0;34m)\u001b[0m \u001b[0;34m*\u001b[0m \u001b[0mindices\u001b[0m\u001b[0;34m.\u001b[0m\u001b[0mndim\u001b[0m\u001b[0;34m\u001b[0m\u001b[0;34m\u001b[0m\u001b[0m\n\u001b[1;32m     40\u001b[0m     \u001b[0mdest_dims\u001b[0m \u001b[0;34m=\u001b[0m \u001b[0mlist\u001b[0m\u001b[0;34m(\u001b[0m\u001b[0mrange\u001b[0m\u001b[0;34m(\u001b[0m\u001b[0maxis\u001b[0m\u001b[0;34m)\u001b[0m\u001b[0;34m)\u001b[0m \u001b[0;34m+\u001b[0m \u001b[0;34m[\u001b[0m\u001b[0;32mNone\u001b[0m\u001b[0;34m]\u001b[0m \u001b[0;34m+\u001b[0m \u001b[0mlist\u001b[0m\u001b[0;34m(\u001b[0m\u001b[0mrange\u001b[0m\u001b[0;34m(\u001b[0m\u001b[0maxis\u001b[0m\u001b[0;34m+\u001b[0m\u001b[0;36m1\u001b[0m\u001b[0;34m,\u001b[0m \u001b[0mindices\u001b[0m\u001b[0;34m.\u001b[0m\u001b[0mndim\u001b[0m\u001b[0;34m)\u001b[0m\u001b[0;34m)\u001b[0m\u001b[0;34m\u001b[0m\u001b[0;34m\u001b[0m\u001b[0m\n",
      "\u001b[0;31mValueError\u001b[0m: `indices` and `arr` must have the same number of dimensions"
     ]
    }
   ],
   "source": [
    "potentialsubsurfacechannel(depth, sound_speed_sliced, 2755.03)"
   ]
  },
  {
   "cell_type": "code",
   "execution_count": null,
   "id": "selective-africa",
   "metadata": {},
   "outputs": [],
   "source": []
  },
  {
   "cell_type": "code",
   "execution_count": null,
   "id": "later-possible",
   "metadata": {},
   "outputs": [],
   "source": []
  },
  {
   "cell_type": "code",
   "execution_count": null,
   "id": "foster-tractor",
   "metadata": {},
   "outputs": [],
   "source": []
  }
 ],
 "metadata": {
  "kernelspec": {
   "display_name": "navigator_env",
   "language": "python",
   "name": "navigator"
  },
  "language_info": {
   "codemirror_mode": {
    "name": "ipython",
    "version": 3
   },
   "file_extension": ".py",
   "mimetype": "text/x-python",
   "name": "python",
   "nbconvert_exporter": "python",
   "pygments_lexer": "ipython3",
   "version": "3.6.8"
  }
 },
 "nbformat": 4,
 "nbformat_minor": 5
}
